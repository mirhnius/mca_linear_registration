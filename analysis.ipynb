{
 "cells": [
  {
   "cell_type": "code",
   "execution_count": 41,
   "metadata": {},
   "outputs": [],
   "source": [
    "import transformation\n",
    "import numpy as np\n",
    "import significantdigits as sd"
   ]
  },
  {
   "cell_type": "code",
   "execution_count": 34,
   "metadata": {},
   "outputs": [],
   "source": [
    "path = './outputs/anat-12dofs'"
   ]
  },
  {
   "cell_type": "code",
   "execution_count": 35,
   "metadata": {},
   "outputs": [],
   "source": [
    "paths = transformation.get_matrices_paths(path)"
   ]
  },
  {
   "cell_type": "code",
   "execution_count": 36,
   "metadata": {},
   "outputs": [],
   "source": [
    "mat_dic = transformation.get_matrices(paths)"
   ]
  },
  {
   "cell_type": "code",
   "execution_count": 44,
   "metadata": {},
   "outputs": [],
   "source": [
    "mean = np.zeros((3,4,4))\n",
    "std = np.zeros((3,4,4))\n",
    "\n",
    "for i,sub in enumerate(mat_dic.keys()):\n",
    "    mean[i] = np.mean(mat_dic[sub][\"mca\"], axis=0)\n",
    "    std[i] = np.std(mat_dic[sub][\"mca\"], axis=0)"
   ]
  },
  {
   "cell_type": "code",
   "execution_count": 45,
   "metadata": {},
   "outputs": [
    {
     "data": {
      "text/plain": [
       "array([[[ 1.05721010e+00,  1.79252209e-02, -1.10265474e-01,\n",
       "          5.36860347e+00],\n",
       "        [-1.64947458e-02,  9.72483080e-01,  6.87394467e-02,\n",
       "         -9.39948158e+00],\n",
       "        [ 1.02658885e-01, -6.02986632e-02,  1.17332640e+00,\n",
       "         -1.10175447e+02],\n",
       "        [ 0.00000000e+00,  0.00000000e+00,  0.00000000e+00,\n",
       "          1.00000000e+00]],\n",
       "\n",
       "       [[ 1.07859414e+00, -5.71261925e-03, -3.85602910e-03,\n",
       "         -4.73013993e+00],\n",
       "        [ 1.29876096e-02,  1.01372637e+00,  1.87657052e-01,\n",
       "         -3.08172410e+01],\n",
       "        [ 4.57685949e-03, -2.08336042e-01,  1.07566716e+00,\n",
       "         -1.93795601e+01],\n",
       "        [ 0.00000000e+00,  0.00000000e+00,  0.00000000e+00,\n",
       "          1.00000000e+00]],\n",
       "\n",
       "       [[ 1.06946795e+00,  2.07317577e-02, -2.91183153e-03,\n",
       "         -7.89951058e+00],\n",
       "        [-5.25173846e-02,  9.96935126e-01,  8.38290336e-02,\n",
       "         -1.01259193e+00],\n",
       "        [ 6.55465608e-03, -1.28047979e-01,  1.13714111e+00,\n",
       "         -8.07432871e+01],\n",
       "        [ 0.00000000e+00,  0.00000000e+00,  0.00000000e+00,\n",
       "          1.00000000e+00]]])"
      ]
     },
     "execution_count": 45,
     "metadata": {},
     "output_type": "execute_result"
    }
   ],
   "source": [
    "mean"
   ]
  },
  {
   "cell_type": "code",
   "execution_count": 46,
   "metadata": {},
   "outputs": [
    {
     "data": {
      "text/plain": [
       "array([[[1.45593784e-05, 1.72122795e-04, 1.46045219e-04, 3.46483975e-02],\n",
       "        [8.31563650e-05, 5.82517543e-05, 1.18130070e-04, 1.94888495e-02],\n",
       "        [1.38379237e-04, 2.02314254e-04, 1.47200498e-04, 2.13520372e-02],\n",
       "        [0.00000000e+00, 0.00000000e+00, 0.00000000e+00, 0.00000000e+00]],\n",
       "\n",
       "       [[1.52169035e-05, 2.50334351e-04, 2.57189359e-04, 5.70270368e-02],\n",
       "        [4.54928464e-04, 3.28786024e-05, 5.08191989e-04, 5.89144814e-02],\n",
       "        [5.15020956e-04, 4.06781513e-04, 1.52286844e-04, 8.95675066e-02],\n",
       "        [0.00000000e+00, 0.00000000e+00, 0.00000000e+00, 0.00000000e+00]],\n",
       "\n",
       "       [[2.38296252e-05, 1.87317295e-04, 1.61550390e-04, 2.66777369e-02],\n",
       "        [1.37512170e-04, 2.46196687e-05, 3.94900074e-04, 6.41836018e-02],\n",
       "        [7.95067905e-05, 3.45841806e-04, 2.28748455e-04, 4.82326856e-02],\n",
       "        [0.00000000e+00, 0.00000000e+00, 0.00000000e+00, 0.00000000e+00]]])"
      ]
     },
     "execution_count": 46,
     "metadata": {},
     "output_type": "execute_result"
    }
   ],
   "source": [
    "std"
   ]
  },
  {
   "cell_type": "code",
   "execution_count": 53,
   "metadata": {},
   "outputs": [],
   "source": [
    "significant_digits_dict = {key:np.zeros((4,4)) for key in mat_dic.keys()}"
   ]
  },
  {
   "cell_type": "code",
   "execution_count": 60,
   "metadata": {},
   "outputs": [
    {
     "name": "stderr",
     "output_type": "stream",
     "text": [
      "/lustre06/project/6061841/niusham/mca_linear_registration/.venv/lib/python3.11/site-packages/significantdigits/_significantdigits.py:257: RuntimeWarning: invalid value encountered in divide\n",
      "  return operator(x, y_reshaped)\n"
     ]
    }
   ],
   "source": [
    "for key in mat_dic.keys():\n",
    "    mean_sub = np.mean(mat_dic[key]['mca'], axis=0)\n",
    "    for i in range(4):\n",
    "        for j in range(4):\n",
    "            significant_digits_dict[key][i,j] = sd.significant_digits(mat_dic[key]['mca'][:,i,j], reference=mean_sub[i,j])"
   ]
  },
  {
   "cell_type": "code",
   "execution_count": 61,
   "metadata": {},
   "outputs": [
    {
     "data": {
      "text/plain": [
       "(4, 4)"
      ]
     },
     "execution_count": 61,
     "metadata": {},
     "output_type": "execute_result"
    }
   ],
   "source": [
    "mean_sub.shape"
   ]
  },
  {
   "cell_type": "code",
   "execution_count": 62,
   "metadata": {},
   "outputs": [
    {
     "data": {
      "text/plain": [
       "{'sub-100007_ses-BL': array([[14.30874794,  4.86320303,  7.7211444 ,  5.43640852],\n",
       "        [ 5.79275824, 12.18787814,  7.3454123 ,  7.07458257],\n",
       "        [ 7.69580941,  6.38017835, 11.12132835, 10.49393552],\n",
       "        [50.16079411, 50.16079411, 50.16079411, 50.16079411]]),\n",
       " 'sub-100012_ses-BL': array([[14.27391188,  2.67301831,  2.06700719,  4.53488709],\n",
       "        [ 2.99614652, 13.07295389,  6.68930327,  7.19169381],\n",
       "        [ 1.31244907,  7.16123673, 10.94694691,  5.91813878],\n",
       "        [50.16079411, 50.16079411, 50.16079411, 50.16079411]]),\n",
       " 'sub-100001_ses-BL': array([[13.61457158,  4.95100863,  2.33266486,  6.37077729],\n",
       "        [ 6.73788607, 13.46619477,  5.89061266,  2.14049844],\n",
       "        [ 4.5260923 ,  6.6931506 , 10.44015578,  8.86990958],\n",
       "        [50.16079411, 50.16079411, 50.16079411, 50.16079411]])}"
      ]
     },
     "execution_count": 62,
     "metadata": {},
     "output_type": "execute_result"
    }
   ],
   "source": [
    "significant_digits_dict"
   ]
  }
 ],
 "metadata": {
  "kernelspec": {
   "display_name": ".venv",
   "language": "python",
   "name": "python3"
  },
  "language_info": {
   "codemirror_mode": {
    "name": "ipython",
    "version": 3
   },
   "file_extension": ".py",
   "mimetype": "text/x-python",
   "name": "python",
   "nbconvert_exporter": "python",
   "pygments_lexer": "ipython3",
   "version": "3.11.5"
  }
 },
 "nbformat": 4,
 "nbformat_minor": 2
}
