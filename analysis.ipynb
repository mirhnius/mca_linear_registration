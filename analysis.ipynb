{
 "cells": [
  {
   "cell_type": "code",
   "execution_count": 1,
   "metadata": {},
   "outputs": [],
   "source": [
    "import transformation\n",
    "import numpy as np\n",
    "import significantdigits as sd\n",
    "from fsl.transform import flirt, affine\n",
    "from matplotlib import pyplot as plt"
   ]
  },
  {
   "cell_type": "code",
   "execution_count": 2,
   "metadata": {},
   "outputs": [],
   "source": [
    "path_PD = './outputs_PD/anat-12dofs'\n",
    "path_HC = './outputs_HC/anat-12dofs'"
   ]
  },
  {
   "cell_type": "code",
   "execution_count": 3,
   "metadata": {},
   "outputs": [],
   "source": [
    "paths_PD = transformation.get_matrices_paths(path_PD)\n",
    "paths_HC = transformation.get_matrices_paths(path_HC)"
   ]
  },
  {
   "cell_type": "code",
   "execution_count": 4,
   "metadata": {},
   "outputs": [],
   "source": [
    "mat_dic_PD = transformation.get_matrices(paths_PD)\n",
    "mat_dic_HC = transformation.get_matrices(paths_HC)"
   ]
  },
  {
   "cell_type": "code",
   "execution_count": 5,
   "metadata": {},
   "outputs": [],
   "source": [
    "mean_PD, std_PD = np.zeros((50,4,4)), np.zeros((50,4,4))\n",
    "mean_HC, std_HC = np.zeros((50,4,4)), np.zeros((50,4,4))\n",
    "\n",
    "for i,sub in enumerate(mat_dic_PD.keys()):\n",
    "    mean_PD[i] = np.mean(mat_dic_PD[sub][\"mca\"], axis=0)\n",
    "    std_PD[i] = np.std(mat_dic_PD[sub][\"mca\"], axis=0)\n",
    "\n",
    "for i,sub in enumerate(mat_dic_HC.keys()):\n",
    "    mean_HC[i] = np.mean(mat_dic_HC[sub]['mca'], axis=0)\n",
    "    std_HC[i] = np.std(mat_dic_HC[sub][\"mca\"], axis=0)\n"
   ]
  },
  {
   "cell_type": "code",
   "execution_count": 6,
   "metadata": {},
   "outputs": [],
   "source": [
    "def cell_significant_digit(mat_dic):\n",
    "\n",
    "    significant_digits_dict = {key:np.zeros((4,4)) for key in mat_dic.keys()}\n",
    "    for key in mat_dic.keys():\n",
    "        mean_sub = np.mean(mat_dic[key]['mca'], axis=0)\n",
    "        for i in range(4):\n",
    "            for j in range(4):\n",
    "                significant_digits_dict[key][i,j] = sd.significant_digits(mat_dic[key]['mca'][:,i,j], reference=mean_sub[i,j], basis=10)\n",
    "    \n",
    "    return significant_digits_dict"
   ]
  },
  {
   "cell_type": "code",
   "execution_count": 7,
   "metadata": {},
   "outputs": [
    {
     "name": "stderr",
     "output_type": "stream",
     "text": [
      "/lustre06/project/6061841/niusham/mca_linear_registration/.venv/lib/python3.11/site-packages/significantdigits/_significantdigits.py:257: RuntimeWarning: invalid value encountered in divide\n",
      "  return operator(x, y_reshaped)\n"
     ]
    }
   ],
   "source": [
    "cell_significant_digits_dict_PD = cell_significant_digit(mat_dic_PD)\n",
    "cell_significant_digits_dict_HC = cell_significant_digit(mat_dic_HC)"
   ]
  },
  {
   "cell_type": "code",
   "execution_count": 8,
   "metadata": {},
   "outputs": [],
   "source": [
    "cell_significant_digits_PD = np.array(list(cell_significant_digits_dict_PD.values()))\n",
    "cell_significant_digits_HC = np.array(list(cell_significant_digits_dict_HC.values()))"
   ]
  },
  {
   "cell_type": "code",
   "execution_count": 9,
   "metadata": {},
   "outputs": [
    {
     "data": {
      "text/plain": [
       "array([[ 4.37104303,  2.74516568,  4.06436344,  2.78036936],\n",
       "       [ 3.72823316,  4.37954739,  3.10545443,  3.19706534],\n",
       "       [ 2.76841606,  3.46591067,  3.72546666,  2.89121485],\n",
       "       [15.09990363, 15.09990363, 15.09990363, 15.09990363]])"
      ]
     },
     "execution_count": 9,
     "metadata": {},
     "output_type": "execute_result"
    }
   ],
   "source": [
    "np.max(cell_significant_digits_PD, axis=0)"
   ]
  },
  {
   "cell_type": "code",
   "execution_count": 10,
   "metadata": {},
   "outputs": [
    {
     "data": {
      "text/plain": [
       "array([[ 4.45679749,  2.63711068,  2.64076903,  2.78584956],\n",
       "       [ 2.9440517 ,  4.51318849,  3.00676552,  3.09448483],\n",
       "       [ 2.7079212 ,  3.19049237,  4.04447148,  3.11014282],\n",
       "       [15.09990363, 15.09990363, 15.09990363, 15.09990363]])"
      ]
     },
     "execution_count": 10,
     "metadata": {},
     "output_type": "execute_result"
    }
   ],
   "source": [
    "np.max(cell_significant_digits_HC, axis=0)"
   ]
  },
  {
   "cell_type": "code",
   "execution_count": 11,
   "metadata": {},
   "outputs": [
    {
     "data": {
      "text/plain": [
       "array([[ 3.4644545 ,  1.37350673,  1.49718741,  1.6203995 ],\n",
       "       [ 1.28983991,  3.42226385,  2.08675437,  2.05864231],\n",
       "       [ 1.20075036,  2.32388483,  2.87418416,  2.07811176],\n",
       "       [15.09990363, 15.09990363, 15.09990363, 15.09990363]])"
      ]
     },
     "execution_count": 11,
     "metadata": {},
     "output_type": "execute_result"
    }
   ],
   "source": [
    "np.mean(cell_significant_digits_PD, axis=0)"
   ]
  },
  {
   "cell_type": "code",
   "execution_count": 12,
   "metadata": {},
   "outputs": [
    {
     "data": {
      "text/plain": [
       "array([[ 3.78539466,  1.26976946,  1.21905954,  1.48139317],\n",
       "       [ 1.33051513,  3.61392229,  2.14935121,  2.18077753],\n",
       "       [ 1.15344231,  2.22925417,  3.21376706,  2.25939095],\n",
       "       [15.09990363, 15.09990363, 15.09990363, 15.09990363]])"
      ]
     },
     "execution_count": 12,
     "metadata": {},
     "output_type": "execute_result"
    }
   ],
   "source": [
    "np.mean(cell_significant_digits_HC, axis=0)"
   ]
  },
  {
   "cell_type": "code",
   "execution_count": 13,
   "metadata": {},
   "outputs": [
    {
     "data": {
      "text/plain": [
       "array([[-0.42819398, -0.58785109, -1.25113768, -0.85836331],\n",
       "       [-1.13662462, -0.43864345, -0.15676659, -2.52290452],\n",
       "       [-0.5692634 , -0.06183924, -0.14642001, -0.31383016],\n",
       "       [15.09990363, 15.09990363, 15.09990363, 15.09990363]])"
      ]
     },
     "execution_count": 13,
     "metadata": {},
     "output_type": "execute_result"
    }
   ],
   "source": [
    "np.min(cell_significant_digits_PD, axis=0)"
   ]
  },
  {
   "cell_type": "code",
   "execution_count": 14,
   "metadata": {},
   "outputs": [
    {
     "data": {
      "text/plain": [
       "array([[ 2.55292504, -1.28592239, -0.89943436, -0.25056002],\n",
       "       [-0.38430498,  2.74445647,  0.2335309 ,  0.38246343],\n",
       "       [-0.50976588,  0.10328191,  2.4985375 ,  0.98636508],\n",
       "       [15.09990363, 15.09990363, 15.09990363, 15.09990363]])"
      ]
     },
     "execution_count": 14,
     "metadata": {},
     "output_type": "execute_result"
    }
   ],
   "source": [
    "np.min(cell_significant_digits_HC, axis=0)"
   ]
  },
  {
   "cell_type": "code",
   "execution_count": null,
   "metadata": {},
   "outputs": [],
   "source": []
  }
 ],
 "metadata": {
  "kernelspec": {
   "display_name": ".venv",
   "language": "python",
   "name": "python3"
  },
  "language_info": {
   "codemirror_mode": {
    "name": "ipython",
    "version": 3
   },
   "file_extension": ".py",
   "mimetype": "text/x-python",
   "name": "python",
   "nbconvert_exporter": "python",
   "pygments_lexer": "ipython3",
   "version": "3.11.5"
  }
 },
 "nbformat": 4,
 "nbformat_minor": 2
}
