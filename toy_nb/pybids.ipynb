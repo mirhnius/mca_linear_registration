{
 "cells": [
  {
   "cell_type": "code",
   "execution_count": 1,
   "metadata": {},
   "outputs": [],
   "source": [
    "from bids import BIDSLayout\n",
    "import os"
   ]
  },
  {
   "cell_type": "code",
   "execution_count": 2,
   "metadata": {},
   "outputs": [],
   "source": [
    "data_csv = '/lustre06/project/6061841/mwang8/data/.tabular/ppmi/bagel.csv'\n",
    "data_path = '/home/niusham/projects/rrg-jbpoline/mwang8/data/.bids/ppmi/'"
   ]
  },
  {
   "cell_type": "code",
   "execution_count": 5,
   "metadata": {},
   "outputs": [],
   "source": [
    "layout = BIDSLayout(data_path)"
   ]
  },
  {
   "cell_type": "code",
   "execution_count": null,
   "metadata": {},
   "outputs": [],
   "source": [
    "# layout.get()"
   ]
  },
  {
   "cell_type": "code",
   "execution_count": 34,
   "metadata": {},
   "outputs": [],
   "source": [
    "path_to_HC = \"../HC_selected_subjects.txt\"\n",
    "path_to_PD = \"../PD_selected_subjects.txt\""
   ]
  },
  {
   "cell_type": "code",
   "execution_count": 38,
   "metadata": {},
   "outputs": [],
   "source": [
    "with open(path_to_HC, \"r\") as f:\n",
    "    list_HC = []\n",
    "    for l in f:\n",
    "        list_HC.append(l.strip().replace(\"sub-\",\"\"))\n"
   ]
  },
  {
   "cell_type": "code",
   "execution_count": 39,
   "metadata": {},
   "outputs": [],
   "source": [
    "with open(path_to_PD, \"r\") as f:\n",
    "    list_PD = []\n",
    "    for l in f:\n",
    "        list_PD.append(l.strip().replace(\"sub-\",\"\"))"
   ]
  },
  {
   "cell_type": "code",
   "execution_count": 41,
   "metadata": {},
   "outputs": [],
   "source": [
    "path_list_HC = layout.get(subject=list_HC ,extension='nii.gz', run=1, session=\"BL\" ,suffix='T1w', return_type='filename')"
   ]
  },
  {
   "cell_type": "code",
   "execution_count": 44,
   "metadata": {},
   "outputs": [],
   "source": [
    "path_list_PD = layout.get(subject=list_PD ,extension='nii.gz', run=1, session=\"BL\" ,suffix='T1w', return_type='filename')"
   ]
  },
  {
   "cell_type": "code",
   "execution_count": 46,
   "metadata": {},
   "outputs": [],
   "source": [
    "with open(\"../HC_paths.txt\", \"w\") as f:\n",
    "    for p in path_list_HC:\n",
    "        f.write(f\"{p}\\n\")"
   ]
  },
  {
   "cell_type": "code",
   "execution_count": 45,
   "metadata": {},
   "outputs": [],
   "source": [
    "with open(\"../PD_paths.txt\", \"w\") as f:\n",
    "    for p in path_list_PD:\n",
    "        f.write(f\"{p}\\n\")"
   ]
  }
 ],
 "metadata": {
  "kernelspec": {
   "display_name": ".venv",
   "language": "python",
   "name": "python3"
  },
  "language_info": {
   "codemirror_mode": {
    "name": "ipython",
    "version": 3
   },
   "file_extension": ".py",
   "mimetype": "text/x-python",
   "name": "python",
   "nbconvert_exporter": "python",
   "pygments_lexer": "ipython3",
   "version": "3.11.5"
  }
 },
 "nbformat": 4,
 "nbformat_minor": 2
}
