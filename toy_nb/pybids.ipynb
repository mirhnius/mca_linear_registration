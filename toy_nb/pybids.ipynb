{
 "cells": [
  {
   "cell_type": "code",
   "execution_count": 9,
   "metadata": {},
   "outputs": [],
   "source": [
    "from bids import BIDSLayout\n",
    "import os"
   ]
  },
  {
   "cell_type": "code",
   "execution_count": 1,
   "metadata": {},
   "outputs": [],
   "source": [
    "data_csv = '/lustre06/project/6061841/mwang8/data/.tabular/ppmi/bagel.csv'"
   ]
  },
  {
   "cell_type": "code",
   "execution_count": 6,
   "metadata": {},
   "outputs": [],
   "source": [
    "PD = \"Parkinson's Disease\"\n",
    "HC = \"Healthy Control\"\n",
    "COHORT = \"COHORT_DEFINITION\"\n",
    "BASELINE = \"BL\"\n",
    "VISIT = \"visit\"\n",
    "ID = \"bids_id\"\n",
    "SESSION = 'ses-BL'\n",
    "MODALITY = 'anat'\n",
    "\n",
    "import pandas as pd\n",
    "df = pd.read_csv(data_csv)\n",
    "df_hc = df[(df[COHORT] == HC) & (df[VISIT] == BASELINE)]"
   ]
  },
  {
   "cell_type": "code",
   "execution_count": 7,
   "metadata": {},
   "outputs": [
    {
     "data": {
      "text/html": [
       "<div>\n",
       "<style scoped>\n",
       "    .dataframe tbody tr th:only-of-type {\n",
       "        vertical-align: middle;\n",
       "    }\n",
       "\n",
       "    .dataframe tbody tr th {\n",
       "        vertical-align: top;\n",
       "    }\n",
       "\n",
       "    .dataframe thead th {\n",
       "        text-align: right;\n",
       "    }\n",
       "</style>\n",
       "<table border=\"1\" class=\"dataframe\">\n",
       "  <thead>\n",
       "    <tr style=\"text-align: right;\">\n",
       "      <th></th>\n",
       "      <th>participant_id</th>\n",
       "      <th>bids_id</th>\n",
       "      <th>visit</th>\n",
       "      <th>DATE_OF_BIRTH</th>\n",
       "      <th>SEX</th>\n",
       "      <th>COHORT_DEFINITION</th>\n",
       "      <th>EDUCATION</th>\n",
       "      <th>AGE</th>\n",
       "      <th>PRIMARY_DIAGNOSIS</th>\n",
       "      <th>UPDRS_1</th>\n",
       "      <th>...</th>\n",
       "      <th>UPDRS_3_OFF</th>\n",
       "      <th>UPDRS_4</th>\n",
       "      <th>MOCA</th>\n",
       "      <th>BENTON_LINE_ORIENTATION</th>\n",
       "      <th>CLOCK_DRAWING</th>\n",
       "      <th>LETTER_NUMBER_SEQUENCING</th>\n",
       "      <th>MODIFIED_BOSTON_NAMING_TEST</th>\n",
       "      <th>MODIFIED_SEMANTIC_FLUENCY</th>\n",
       "      <th>SYMBOL_DIGIT_MODALITIES</th>\n",
       "      <th>UPSIT</th>\n",
       "    </tr>\n",
       "  </thead>\n",
       "  <tbody>\n",
       "    <tr>\n",
       "      <th>11</th>\n",
       "      <td>100004</td>\n",
       "      <td>sub-100004</td>\n",
       "      <td>BL</td>\n",
       "      <td>05/1963</td>\n",
       "      <td>1</td>\n",
       "      <td>Healthy Control</td>\n",
       "      <td>NaN</td>\n",
       "      <td>57.6</td>\n",
       "      <td>NaN</td>\n",
       "      <td>NaN</td>\n",
       "      <td>...</td>\n",
       "      <td>NaN</td>\n",
       "      <td>NaN</td>\n",
       "      <td>NaN</td>\n",
       "      <td>NaN</td>\n",
       "      <td>NaN</td>\n",
       "      <td>NaN</td>\n",
       "      <td>NaN</td>\n",
       "      <td>NaN</td>\n",
       "      <td>NaN</td>\n",
       "      <td>NaN</td>\n",
       "    </tr>\n",
       "    <tr>\n",
       "      <th>89</th>\n",
       "      <td>100890</td>\n",
       "      <td>sub-100890</td>\n",
       "      <td>BL</td>\n",
       "      <td>01/1943</td>\n",
       "      <td>1</td>\n",
       "      <td>Healthy Control</td>\n",
       "      <td>16.0</td>\n",
       "      <td>78.2</td>\n",
       "      <td>17.0</td>\n",
       "      <td>1.0</td>\n",
       "      <td>...</td>\n",
       "      <td>2.0</td>\n",
       "      <td>NaN</td>\n",
       "      <td>NaN</td>\n",
       "      <td>NaN</td>\n",
       "      <td>NaN</td>\n",
       "      <td>NaN</td>\n",
       "      <td>59.0</td>\n",
       "      <td>NaN</td>\n",
       "      <td>NaN</td>\n",
       "      <td>NaN</td>\n",
       "    </tr>\n",
       "    <tr>\n",
       "      <th>113</th>\n",
       "      <td>100956</td>\n",
       "      <td>sub-100956</td>\n",
       "      <td>BL</td>\n",
       "      <td>04/1946</td>\n",
       "      <td>0</td>\n",
       "      <td>Healthy Control</td>\n",
       "      <td>15.0</td>\n",
       "      <td>75.2</td>\n",
       "      <td>17.0</td>\n",
       "      <td>0.0</td>\n",
       "      <td>...</td>\n",
       "      <td>2.0</td>\n",
       "      <td>NaN</td>\n",
       "      <td>NaN</td>\n",
       "      <td>NaN</td>\n",
       "      <td>NaN</td>\n",
       "      <td>NaN</td>\n",
       "      <td>55.0</td>\n",
       "      <td>NaN</td>\n",
       "      <td>NaN</td>\n",
       "      <td>NaN</td>\n",
       "    </tr>\n",
       "    <tr>\n",
       "      <th>156</th>\n",
       "      <td>101039</td>\n",
       "      <td>sub-101039</td>\n",
       "      <td>BL</td>\n",
       "      <td>02/1958</td>\n",
       "      <td>0</td>\n",
       "      <td>Healthy Control</td>\n",
       "      <td>16.0</td>\n",
       "      <td>63.2</td>\n",
       "      <td>17.0</td>\n",
       "      <td>1.0</td>\n",
       "      <td>...</td>\n",
       "      <td>1.0</td>\n",
       "      <td>NaN</td>\n",
       "      <td>NaN</td>\n",
       "      <td>NaN</td>\n",
       "      <td>NaN</td>\n",
       "      <td>NaN</td>\n",
       "      <td>60.0</td>\n",
       "      <td>NaN</td>\n",
       "      <td>NaN</td>\n",
       "      <td>NaN</td>\n",
       "    </tr>\n",
       "    <tr>\n",
       "      <th>223</th>\n",
       "      <td>101195</td>\n",
       "      <td>sub-101195</td>\n",
       "      <td>BL</td>\n",
       "      <td>08/1947</td>\n",
       "      <td>1</td>\n",
       "      <td>Healthy Control</td>\n",
       "      <td>20.0</td>\n",
       "      <td>73.8</td>\n",
       "      <td>17.0</td>\n",
       "      <td>0.0</td>\n",
       "      <td>...</td>\n",
       "      <td>0.0</td>\n",
       "      <td>NaN</td>\n",
       "      <td>NaN</td>\n",
       "      <td>NaN</td>\n",
       "      <td>NaN</td>\n",
       "      <td>NaN</td>\n",
       "      <td>59.0</td>\n",
       "      <td>NaN</td>\n",
       "      <td>NaN</td>\n",
       "      <td>NaN</td>\n",
       "    </tr>\n",
       "    <tr>\n",
       "      <th>...</th>\n",
       "      <td>...</td>\n",
       "      <td>...</td>\n",
       "      <td>...</td>\n",
       "      <td>...</td>\n",
       "      <td>...</td>\n",
       "      <td>...</td>\n",
       "      <td>...</td>\n",
       "      <td>...</td>\n",
       "      <td>...</td>\n",
       "      <td>...</td>\n",
       "      <td>...</td>\n",
       "      <td>...</td>\n",
       "      <td>...</td>\n",
       "      <td>...</td>\n",
       "      <td>...</td>\n",
       "      <td>...</td>\n",
       "      <td>...</td>\n",
       "      <td>...</td>\n",
       "      <td>...</td>\n",
       "      <td>...</td>\n",
       "      <td>...</td>\n",
       "    </tr>\n",
       "    <tr>\n",
       "      <th>10476</th>\n",
       "      <td>4116</td>\n",
       "      <td>sub-4116</td>\n",
       "      <td>BL</td>\n",
       "      <td>10/1948</td>\n",
       "      <td>1</td>\n",
       "      <td>Healthy Control</td>\n",
       "      <td>16.0</td>\n",
       "      <td>64.5</td>\n",
       "      <td>NaN</td>\n",
       "      <td>0.0</td>\n",
       "      <td>...</td>\n",
       "      <td>0.0</td>\n",
       "      <td>NaN</td>\n",
       "      <td>NaN</td>\n",
       "      <td>26.0</td>\n",
       "      <td>NaN</td>\n",
       "      <td>14.0</td>\n",
       "      <td>NaN</td>\n",
       "      <td>10.0</td>\n",
       "      <td>50.00</td>\n",
       "      <td>NaN</td>\n",
       "    </tr>\n",
       "    <tr>\n",
       "      <th>10477</th>\n",
       "      <td>4116</td>\n",
       "      <td>sub-4116</td>\n",
       "      <td>BL</td>\n",
       "      <td>10/1948</td>\n",
       "      <td>1</td>\n",
       "      <td>Healthy Control</td>\n",
       "      <td>NaN</td>\n",
       "      <td>64.5</td>\n",
       "      <td>NaN</td>\n",
       "      <td>0.0</td>\n",
       "      <td>...</td>\n",
       "      <td>0.0</td>\n",
       "      <td>NaN</td>\n",
       "      <td>NaN</td>\n",
       "      <td>26.0</td>\n",
       "      <td>NaN</td>\n",
       "      <td>14.0</td>\n",
       "      <td>NaN</td>\n",
       "      <td>10.0</td>\n",
       "      <td>50.00</td>\n",
       "      <td>NaN</td>\n",
       "    </tr>\n",
       "    <tr>\n",
       "      <th>10505</th>\n",
       "      <td>4118</td>\n",
       "      <td>sub-4118</td>\n",
       "      <td>BL</td>\n",
       "      <td>04/1945</td>\n",
       "      <td>0</td>\n",
       "      <td>Healthy Control</td>\n",
       "      <td>16.0</td>\n",
       "      <td>68.1</td>\n",
       "      <td>NaN</td>\n",
       "      <td>1.0</td>\n",
       "      <td>...</td>\n",
       "      <td>0.0</td>\n",
       "      <td>NaN</td>\n",
       "      <td>NaN</td>\n",
       "      <td>24.0</td>\n",
       "      <td>NaN</td>\n",
       "      <td>11.0</td>\n",
       "      <td>NaN</td>\n",
       "      <td>12.0</td>\n",
       "      <td>50.00</td>\n",
       "      <td>NaN</td>\n",
       "    </tr>\n",
       "    <tr>\n",
       "      <th>10506</th>\n",
       "      <td>4118</td>\n",
       "      <td>sub-4118</td>\n",
       "      <td>BL</td>\n",
       "      <td>04/1945</td>\n",
       "      <td>0</td>\n",
       "      <td>Healthy Control</td>\n",
       "      <td>NaN</td>\n",
       "      <td>68.1</td>\n",
       "      <td>NaN</td>\n",
       "      <td>1.0</td>\n",
       "      <td>...</td>\n",
       "      <td>0.0</td>\n",
       "      <td>NaN</td>\n",
       "      <td>NaN</td>\n",
       "      <td>24.0</td>\n",
       "      <td>NaN</td>\n",
       "      <td>11.0</td>\n",
       "      <td>NaN</td>\n",
       "      <td>12.0</td>\n",
       "      <td>50.00</td>\n",
       "      <td>NaN</td>\n",
       "    </tr>\n",
       "    <tr>\n",
       "      <th>10815</th>\n",
       "      <td>4139</td>\n",
       "      <td>sub-4139</td>\n",
       "      <td>BL</td>\n",
       "      <td>05/1932</td>\n",
       "      <td>1</td>\n",
       "      <td>Healthy Control</td>\n",
       "      <td>15.0</td>\n",
       "      <td>80.9</td>\n",
       "      <td>NaN</td>\n",
       "      <td>1.0</td>\n",
       "      <td>...</td>\n",
       "      <td>1.0</td>\n",
       "      <td>NaN</td>\n",
       "      <td>NaN</td>\n",
       "      <td>30.0</td>\n",
       "      <td>NaN</td>\n",
       "      <td>13.0</td>\n",
       "      <td>NaN</td>\n",
       "      <td>11.0</td>\n",
       "      <td>48.33</td>\n",
       "      <td>NaN</td>\n",
       "    </tr>\n",
       "  </tbody>\n",
       "</table>\n",
       "<p>359 rows × 23 columns</p>\n",
       "</div>"
      ],
      "text/plain": [
       "       participant_id     bids_id visit DATE_OF_BIRTH  SEX COHORT_DEFINITION  \\\n",
       "11             100004  sub-100004    BL       05/1963    1   Healthy Control   \n",
       "89             100890  sub-100890    BL       01/1943    1   Healthy Control   \n",
       "113            100956  sub-100956    BL       04/1946    0   Healthy Control   \n",
       "156            101039  sub-101039    BL       02/1958    0   Healthy Control   \n",
       "223            101195  sub-101195    BL       08/1947    1   Healthy Control   \n",
       "...               ...         ...   ...           ...  ...               ...   \n",
       "10476            4116    sub-4116    BL       10/1948    1   Healthy Control   \n",
       "10477            4116    sub-4116    BL       10/1948    1   Healthy Control   \n",
       "10505            4118    sub-4118    BL       04/1945    0   Healthy Control   \n",
       "10506            4118    sub-4118    BL       04/1945    0   Healthy Control   \n",
       "10815            4139    sub-4139    BL       05/1932    1   Healthy Control   \n",
       "\n",
       "       EDUCATION   AGE  PRIMARY_DIAGNOSIS  UPDRS_1  ...  UPDRS_3_OFF  UPDRS_4  \\\n",
       "11           NaN  57.6                NaN      NaN  ...          NaN      NaN   \n",
       "89          16.0  78.2               17.0      1.0  ...          2.0      NaN   \n",
       "113         15.0  75.2               17.0      0.0  ...          2.0      NaN   \n",
       "156         16.0  63.2               17.0      1.0  ...          1.0      NaN   \n",
       "223         20.0  73.8               17.0      0.0  ...          0.0      NaN   \n",
       "...          ...   ...                ...      ...  ...          ...      ...   \n",
       "10476       16.0  64.5                NaN      0.0  ...          0.0      NaN   \n",
       "10477        NaN  64.5                NaN      0.0  ...          0.0      NaN   \n",
       "10505       16.0  68.1                NaN      1.0  ...          0.0      NaN   \n",
       "10506        NaN  68.1                NaN      1.0  ...          0.0      NaN   \n",
       "10815       15.0  80.9                NaN      1.0  ...          1.0      NaN   \n",
       "\n",
       "       MOCA  BENTON_LINE_ORIENTATION  CLOCK_DRAWING  LETTER_NUMBER_SEQUENCING  \\\n",
       "11      NaN                      NaN            NaN                       NaN   \n",
       "89      NaN                      NaN            NaN                       NaN   \n",
       "113     NaN                      NaN            NaN                       NaN   \n",
       "156     NaN                      NaN            NaN                       NaN   \n",
       "223     NaN                      NaN            NaN                       NaN   \n",
       "...     ...                      ...            ...                       ...   \n",
       "10476   NaN                     26.0            NaN                      14.0   \n",
       "10477   NaN                     26.0            NaN                      14.0   \n",
       "10505   NaN                     24.0            NaN                      11.0   \n",
       "10506   NaN                     24.0            NaN                      11.0   \n",
       "10815   NaN                     30.0            NaN                      13.0   \n",
       "\n",
       "       MODIFIED_BOSTON_NAMING_TEST  MODIFIED_SEMANTIC_FLUENCY  \\\n",
       "11                             NaN                        NaN   \n",
       "89                            59.0                        NaN   \n",
       "113                           55.0                        NaN   \n",
       "156                           60.0                        NaN   \n",
       "223                           59.0                        NaN   \n",
       "...                            ...                        ...   \n",
       "10476                          NaN                       10.0   \n",
       "10477                          NaN                       10.0   \n",
       "10505                          NaN                       12.0   \n",
       "10506                          NaN                       12.0   \n",
       "10815                          NaN                       11.0   \n",
       "\n",
       "       SYMBOL_DIGIT_MODALITIES  UPSIT  \n",
       "11                         NaN    NaN  \n",
       "89                         NaN    NaN  \n",
       "113                        NaN    NaN  \n",
       "156                        NaN    NaN  \n",
       "223                        NaN    NaN  \n",
       "...                        ...    ...  \n",
       "10476                    50.00    NaN  \n",
       "10477                    50.00    NaN  \n",
       "10505                    50.00    NaN  \n",
       "10506                    50.00    NaN  \n",
       "10815                    48.33    NaN  \n",
       "\n",
       "[359 rows x 23 columns]"
      ]
     },
     "execution_count": 7,
     "metadata": {},
     "output_type": "execute_result"
    }
   ],
   "source": [
    "df_hc"
   ]
  },
  {
   "cell_type": "code",
   "execution_count": 11,
   "metadata": {},
   "outputs": [],
   "source": [
    "data_path = '/home/niusham/projects/rrg-jbpoline/mwang8/data/.bids/ppmi/'\n"
   ]
  },
  {
   "cell_type": "code",
   "execution_count": 12,
   "metadata": {},
   "outputs": [],
   "source": [
    "layout = BIDSLayout(data_path)"
   ]
  },
  {
   "cell_type": "code",
   "execution_count": null,
   "metadata": {},
   "outputs": [],
   "source": [
    "layout.get()\n"
   ]
  },
  {
   "cell_type": "code",
   "execution_count": 18,
   "metadata": {},
   "outputs": [
    {
     "data": {
      "text/plain": [
       "[]"
      ]
     },
     "execution_count": 18,
     "metadata": {},
     "output_type": "execute_result"
    }
   ],
   "source": [
    "layout.get(extension='nii.gz', suffix='T1w', run='run-01', return_type='filename')"
   ]
  },
  {
   "cell_type": "code",
   "execution_count": null,
   "metadata": {},
   "outputs": [],
   "source": [
    "#why I can not use run and session"
   ]
  },
  {
   "cell_type": "code",
   "execution_count": null,
   "metadata": {},
   "outputs": [],
   "source": [
    "import numpy\n",
    "import math\n",
    "\n",
    "\n",
    "def read_transfo(file_name):\n",
    "    \"\"\"Read a 4x4 transformation matrix produced by FSL.\n",
    "\n",
    "    Args:\n",
    "        file_name: file containing the transformation matrix\n",
    "\n",
    "    Returns:\n",
    "        numpy array containing the transformation matrix\n",
    "    \"\"\"\n",
    "    transfo = numpy.zeros(shape=(4, 4))\n",
    "    transfo_line = 0\n",
    "    with open(file_name) as f:\n",
    "        for line in f:\n",
    "            line = line.strip()\n",
    "            elements = line.split()\n",
    "            assert (\n",
    "                len(elements) == 4\n",
    "            ), \"Wrong format in transformation line: {0} (file name: {1})\".format(\n",
    "                line, file_name\n",
    "            )\n",
    "            for i in range(0, 4):\n",
    "                transfo[transfo_line][i] = float(elements[i].strip().replace(\";\", \"\"))\n",
    "            transfo_line = transfo_line + 1\n",
    "\n",
    "    transfo_mat = numpy.matrix(\n",
    "        [\n",
    "            [transfo[0][0], transfo[0][1], transfo[0][2], transfo[0][3]],\n",
    "            [transfo[1][0], transfo[1][1], transfo[1][2], transfo[1][3]],\n",
    "            [transfo[2][0], transfo[2][1], transfo[2][2], transfo[2][3]],\n",
    "            [0, 0, 0, 1],\n",
    "        ]\n",
    "    )\n",
    "\n",
    "    return transfo_mat\n",
    "\n",
    "\n",
    "def get_rot_angle_vec(rot_mat):\n",
    "    \"\"\"Return the rotation angle and vector from a transformation matrix.\n",
    "\n",
    "    Args:\n",
    "        rot_mat: 4x4 transformation matrix\n",
    "\n",
    "    Returns:\n",
    "        rotation angle, rotation vector\n",
    "    \"\"\"\n",
    "    # See http://www.euclideanspace.com/maths/geometry/rotations/conversions/matrixToAngle/\n",
    "    cos = (rot_mat.item(0, 0) + rot_mat.item(1, 1) + rot_mat.item(2, 2) - 1) / 2\n",
    "    if cos > 1:\n",
    "        print(\"Warning: cos is larger than 1: {0}\".format(cos))\n",
    "        cos = 1\n",
    "    rot_angle = math.acos(cos)\n",
    "    x = (rot_mat.item(2, 1) - rot_mat.item(1, 2)) / math.sqrt(\n",
    "        (rot_mat.item(2, 1) - rot_mat.item(1, 2)) ** 2\n",
    "        + (rot_mat.item(0, 2) - rot_mat.item(2, 0)) ** 2\n",
    "        + (rot_mat.item(1, 0) - rot_mat.item(0, 1)) ** 2\n",
    "    )\n",
    "    y = (rot_mat.item(0, 2) - rot_mat.item(2, 0)) / math.sqrt(\n",
    "        (rot_mat.item(2, 1) - rot_mat.item(1, 2)) ** 2\n",
    "        + (rot_mat.item(0, 2) - rot_mat.item(2, 0)) ** 2\n",
    "        + (rot_mat.item(1, 0) - rot_mat.item(0, 1)) ** 2\n",
    "    )\n",
    "    z = (rot_mat.item(1, 0) - rot_mat.item(0, 1)) / math.sqrt(\n",
    "        (rot_mat.item(2, 1) - rot_mat.item(1, 2)) ** 2\n",
    "        + (rot_mat.item(0, 2) - rot_mat.item(2, 0)) ** 2\n",
    "        + (rot_mat.item(1, 0) - rot_mat.item(0, 1)) ** 2\n",
    "    )\n",
    "    rot_vec = numpy.array([x, y, z])\n",
    "    return rot_angle, rot_vec\n",
    "\n",
    "\n",
    "def get_rot_mat(transfo_mat):\n",
    "    \"\"\"Return the rotation matrix from a transformation matrix.\n",
    "\n",
    "    Args:\n",
    "        transfo_mat: 4x4 transformation matrix\n",
    "\n",
    "    Returns:\n",
    "        Rotation matrix\n",
    "    \"\"\"\n",
    "    rot_mat = numpy.matrix(\n",
    "        [\n",
    "            [transfo_mat.item(0, 0), transfo_mat.item(0, 1), transfo_mat.item(0, 2)],\n",
    "            [transfo_mat.item(1, 0), transfo_mat.item(1, 1), transfo_mat.item(1, 2)],\n",
    "            [transfo_mat.item(2, 0), transfo_mat.item(2, 1), transfo_mat.item(2, 2)],\n",
    "        ]\n",
    "    )\n",
    "    return rot_mat\n",
    "\n",
    "\n",
    "def get_tr_vec(transfo_mat):\n",
    "    \"\"\"Return translation vector from transformation matrix\n",
    "\n",
    "    Args:\n",
    "        transfo_mat: 4x4 transformation matrix\n",
    "\n",
    "    Returns:\n",
    "        Translation vector\n",
    "    \"\"\"\n",
    "    tr_vec = numpy.array(\n",
    "        [transfo_mat.item(0, 3), transfo_mat.item(1, 3), transfo_mat.item(2, 3)]\n",
    "    )\n",
    "    return tr_vec\n",
    "\n",
    "\n",
    "def get_transfo_vector(transfo_mat):\n",
    "    \"\"\"Return transformation vector from transformation matrix\n",
    "\n",
    "    Args:\n",
    "        transfo_mat: 4x4 transformation matrix\n",
    "\n",
    "    Returns:\n",
    "        Transformation vector [tx, ty, tz, rx, ry, rz]\n",
    "    \"\"\"\n",
    "    tx, ty, tz = get_tr_vec(transfo_mat)\n",
    "    rx, ry, rz = get_euler_angles(transfo_mat)\n",
    "    return [tx, ty, tz, rx, ry, rz]\n",
    "\n",
    "\n",
    "def get_euler_angles(transfo_mat):\n",
    "    \"\"\"Compute Euler angles from transformation matrix\n",
    "\n",
    "    Args:\n",
    "        transfo_mat: 4x4 transformation matrix\n",
    "\n",
    "    Returns:\n",
    "        Euler angles rx, ry, rz\n",
    "    \"\"\"\n",
    "    # From http://nghiaho.com/?page_id=846\n",
    "    rx = math.atan2(transfo_mat.item(2, 1), transfo_mat.item(2, 2))\n",
    "    ry = math.atan2(\n",
    "        -transfo_mat.item(2, 0),\n",
    "        math.sqrt(transfo_mat.item(2, 1) ** 2 + transfo_mat.item(2, 2) ** 2),\n",
    "    )\n",
    "    rz = math.atan2(transfo_mat.item(1, 0), transfo_mat.item(0, 0))\n",
    "    return rx, ry, rz\n",
    "\n",
    "\n",
    "def get_transfo_mat(x):\n",
    "    \"\"\"Return transformation matrix from transformation veector\n",
    "\n",
    "    Args:\n",
    "        x: transformation vector [tx, ty, tz, rx, ry, rz]\n",
    "\n",
    "    Returns:\n",
    "        4x4 transformation matrix\n",
    "    \"\"\"\n",
    "    tx, ty, tz, rx, ry, rz = x\n",
    "    x = numpy.matrix([[1, 0, 0], [0, cos(rx), -sin(rx)], [0, sin(rx), cos(rx)]])\n",
    "    y = numpy.matrix([[cos(ry), 0, sin(ry)], [0, 1, 0], [-sin(ry), 0, cos(ry)]])\n",
    "    z = numpy.matrix([[cos(rz), -sin(rz), 0], [sin(rz), cos(rz), 0], [0, 0, 1]])\n",
    "    r = x * y * z\n",
    "    mat = numpy.matrix(\n",
    "        [\n",
    "            [r.item(0, 0), r.item(0, 1), r.item(0, 2), tx],\n",
    "            [r.item(1, 0), r.item(1, 1), r.item(1, 2), ty],\n",
    "            [r.item(2, 0), r.item(2, 1), r.item(2, 2), tz],\n",
    "            [0, 0, 0, 1],\n",
    "        ]\n",
    "    )\n",
    "    return mat\n",
    "\n",
    "\n",
    "def compare_transfos(mat1, mat2):\n",
    "    \"\"\"Return residual transformation vector between input matrices\n",
    "\n",
    "    Args:\n",
    "        mat1: 4x4 transformation matrix\n",
    "        mat2: 4x4 transformation matrix\n",
    "\n",
    "    Returns:\n",
    "        Transformation vector representing mat1.I*mat2\n",
    "    \"\"\"\n",
    "    residual_mat = mat1.I * mat2\n",
    "    return get_transfo_vector(residual_mat)"
   ]
  },
  {
   "cell_type": "code",
   "execution_count": 1,
   "metadata": {},
   "outputs": [],
   "source": [
    "from fsl.transform import flirt, affine"
   ]
  },
  {
   "cell_type": "code",
   "execution_count": 2,
   "metadata": {},
   "outputs": [],
   "source": [
    "a = flirt.readFlirt('./outputs/anat-12dofs/mca/1/sub-100012_ses-BL.mat')"
   ]
  },
  {
   "cell_type": "code",
   "execution_count": 3,
   "metadata": {},
   "outputs": [],
   "source": [
    "scales, translation, rotation, shears = affine.decompose(a, shears=True, angles=True)"
   ]
  },
  {
   "cell_type": "code",
   "execution_count": 4,
   "metadata": {},
   "outputs": [
    {
     "data": {
      "text/plain": [
       "[-0.20257406925794813, -0.0026581344362216035, 0.011358571991810385]"
      ]
     },
     "execution_count": 4,
     "metadata": {},
     "output_type": "execute_result"
    }
   ],
   "source": [
    "rotation"
   ]
  },
  {
   "cell_type": "code",
   "execution_count": 8,
   "metadata": {},
   "outputs": [],
   "source": [
    "b=read_transfo('./outputs/anat-12dofs/mca/1/sub-100012_ses-BL.mat')"
   ]
  },
  {
   "cell_type": "code",
   "execution_count": 20,
   "metadata": {},
   "outputs": [
    {
     "name": "stdout",
     "output_type": "stream",
     "text": [
      "Warning: cos is larger than 1: 1.084652159\n"
     ]
    },
    {
     "data": {
      "text/plain": [
       "(0.0, array([-0.99891975, -0.01468602,  0.04408697]))"
      ]
     },
     "execution_count": 20,
     "metadata": {},
     "output_type": "execute_result"
    }
   ],
   "source": [
    "get_rot_angle_vec(b)"
   ]
  },
  {
   "cell_type": "code",
   "execution_count": 21,
   "metadata": {},
   "outputs": [
    {
     "data": {
      "text/plain": [
       "array([[ 0.99993196, -0.01059131, -0.00488881],\n",
       "       [ 0.01135829,  0.97949483,  0.20114888],\n",
       "       [ 0.00265813, -0.20119072,  0.97954848]])"
      ]
     },
     "execution_count": 21,
     "metadata": {},
     "output_type": "execute_result"
    }
   ],
   "source": [
    "rotation"
   ]
  },
  {
   "cell_type": "code",
   "execution_count": 22,
   "metadata": {},
   "outputs": [
    {
     "data": {
      "text/plain": [
       "matrix([[ 1.07875685, -0.00521756, -0.00295225],\n",
       "        [ 0.01225366,  1.01388682,  0.18763552],\n",
       "        [ 0.00286767, -0.20822625,  1.07666064]])"
      ]
     },
     "execution_count": 22,
     "metadata": {},
     "output_type": "execute_result"
    }
   ],
   "source": [
    "get_rot_mat(b)"
   ]
  },
  {
   "cell_type": "code",
   "execution_count": 16,
   "metadata": {},
   "outputs": [
    {
     "data": {
      "text/plain": [
       "array([ -4.90924202, -30.77407001, -19.41439206])"
      ]
     },
     "execution_count": 16,
     "metadata": {},
     "output_type": "execute_result"
    }
   ],
   "source": [
    "translation"
   ]
  },
  {
   "cell_type": "code",
   "execution_count": 17,
   "metadata": {},
   "outputs": [
    {
     "data": {
      "text/plain": [
       "array([ -4.90924202, -30.77407001, -19.41439206])"
      ]
     },
     "execution_count": 17,
     "metadata": {},
     "output_type": "execute_result"
    }
   ],
   "source": [
    "get_tr_vec(b)"
   ]
  },
  {
   "cell_type": "code",
   "execution_count": 18,
   "metadata": {},
   "outputs": [
    {
     "data": {
      "text/plain": [
       "array([ -4.90924202, -30.77407001, -19.41439206])"
      ]
     },
     "execution_count": 18,
     "metadata": {},
     "output_type": "execute_result"
    }
   ],
   "source": [
    "translation"
   ]
  },
  {
   "cell_type": "code",
   "execution_count": 24,
   "metadata": {},
   "outputs": [
    {
     "data": {
      "text/plain": [
       "array([ 0.00532551,  0.00189193, -0.03168444])"
      ]
     },
     "execution_count": 24,
     "metadata": {},
     "output_type": "execute_result"
    }
   ],
   "source": [
    "shears"
   ]
  }
 ],
 "metadata": {
  "kernelspec": {
   "display_name": ".venv",
   "language": "python",
   "name": "python3"
  },
  "language_info": {
   "codemirror_mode": {
    "name": "ipython",
    "version": 3
   },
   "file_extension": ".py",
   "mimetype": "text/x-python",
   "name": "python",
   "nbconvert_exporter": "python",
   "pygments_lexer": "ipython3",
   "version": "3.11.5"
  }
 },
 "nbformat": 4,
 "nbformat_minor": 2
}
