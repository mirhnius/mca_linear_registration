{
 "cells": [
  {
   "cell_type": "code",
   "execution_count": 26,
   "metadata": {},
   "outputs": [],
   "source": [
    "from bids import BIDSLayout\n",
    "from pathlib import Path"
   ]
  },
  {
   "cell_type": "code",
   "execution_count": 2,
   "metadata": {},
   "outputs": [],
   "source": [
    "data_csv = '/lustre06/project/6061841/mwang8/data/.tabular/ppmi/bagel.csv'\n",
    "data_path = '/home/niusham/projects/rrg-jbpoline/mwang8/data/.bids/ppmi/'"
   ]
  },
  {
   "cell_type": "code",
   "execution_count": 3,
   "metadata": {},
   "outputs": [],
   "source": [
    "layout = BIDSLayout(data_path)"
   ]
  },
  {
   "cell_type": "code",
   "execution_count": null,
   "metadata": {},
   "outputs": [],
   "source": [
    "# layout.get()"
   ]
  },
  {
   "cell_type": "code",
   "execution_count": 4,
   "metadata": {},
   "outputs": [],
   "source": [
    "path_to_HC = \"../HC_selected_subjects.txt\"\n",
    "path_to_PD = \"../PD_selected_subjects.txt\""
   ]
  },
  {
   "cell_type": "code",
   "execution_count": 5,
   "metadata": {},
   "outputs": [],
   "source": [
    "with open(path_to_HC, \"r\") as f:\n",
    "    list_HC = []\n",
    "    for l in f:\n",
    "        list_HC.append(l.strip().replace(\"sub-\",\"\"))\n"
   ]
  },
  {
   "cell_type": "code",
   "execution_count": 6,
   "metadata": {},
   "outputs": [],
   "source": [
    "with open(path_to_PD, \"r\") as f:\n",
    "    list_PD = []\n",
    "    for l in f:\n",
    "        list_PD.append(l.strip().replace(\"sub-\",\"\"))"
   ]
  },
  {
   "cell_type": "code",
   "execution_count": 7,
   "metadata": {},
   "outputs": [],
   "source": [
    "path_list_HC = layout.get(subject=list_HC ,extension='nii.gz', run=1, session=\"BL\" ,suffix='T1w', return_type='filename')"
   ]
  },
  {
   "cell_type": "code",
   "execution_count": 8,
   "metadata": {},
   "outputs": [],
   "source": [
    "path_list_PD = layout.get(subject=list_PD ,extension='nii.gz', run=1, session=\"BL\" ,suffix='T1w', return_type='filename')"
   ]
  },
  {
   "cell_type": "code",
   "execution_count": null,
   "metadata": {},
   "outputs": [],
   "source": [
    "with open(\"../HC_paths.txt\", \"w\") as f:\n",
    "    for p in path_list_HC:\n",
    "        f.write(f\"{p}\\n\")"
   ]
  },
  {
   "cell_type": "code",
   "execution_count": null,
   "metadata": {},
   "outputs": [],
   "source": [
    "with open(\"../PD_paths.txt\", \"w\") as f:\n",
    "    for p in path_list_PD:\n",
    "        f.write(f\"{p}\\n\")"
   ]
  },
  {
   "cell_type": "code",
   "execution_count": 9,
   "metadata": {},
   "outputs": [
    {
     "ename": "TypeError",
     "evalue": "BIDSLayout.get_metadata() got an unexpected keyword argument 'subject'",
     "output_type": "error",
     "traceback": [
      "\u001b[0;31m---------------------------------------------------------------------------\u001b[0m",
      "\u001b[0;31mTypeError\u001b[0m                                 Traceback (most recent call last)",
      "Cell \u001b[0;32mIn[9], line 1\u001b[0m\n\u001b[0;32m----> 1\u001b[0m \u001b[43mlayout\u001b[49m\u001b[38;5;241;43m.\u001b[39;49m\u001b[43mget_metadata\u001b[49m\u001b[43m(\u001b[49m\u001b[43msubject\u001b[49m\u001b[38;5;241;43m=\u001b[39;49m\u001b[43mlist_PD\u001b[49m\u001b[43m \u001b[49m\u001b[43m,\u001b[49m\u001b[43mextension\u001b[49m\u001b[38;5;241;43m=\u001b[39;49m\u001b[38;5;124;43m'\u001b[39;49m\u001b[38;5;124;43mnii.gz\u001b[39;49m\u001b[38;5;124;43m'\u001b[39;49m\u001b[43m,\u001b[49m\u001b[43m \u001b[49m\u001b[43mrun\u001b[49m\u001b[38;5;241;43m=\u001b[39;49m\u001b[38;5;241;43m1\u001b[39;49m\u001b[43m,\u001b[49m\u001b[43m \u001b[49m\u001b[43msession\u001b[49m\u001b[38;5;241;43m=\u001b[39;49m\u001b[38;5;124;43m\"\u001b[39;49m\u001b[38;5;124;43mBL\u001b[39;49m\u001b[38;5;124;43m\"\u001b[39;49m\u001b[43m \u001b[49m\u001b[43m,\u001b[49m\u001b[43msuffix\u001b[49m\u001b[38;5;241;43m=\u001b[39;49m\u001b[38;5;124;43m'\u001b[39;49m\u001b[38;5;124;43mT1w\u001b[39;49m\u001b[38;5;124;43m'\u001b[39;49m\u001b[43m,\u001b[49m\u001b[43m \u001b[49m\u001b[43mreturn_type\u001b[49m\u001b[38;5;241;43m=\u001b[39;49m\u001b[38;5;124;43m'\u001b[39;49m\u001b[38;5;124;43mfilename\u001b[39;49m\u001b[38;5;124;43m'\u001b[39;49m\u001b[43m)\u001b[49m\u001b[38;5;241m.\u001b[39mget\n",
      "\u001b[0;31mTypeError\u001b[0m: BIDSLayout.get_metadata() got an unexpected keyword argument 'subject'"
     ]
    }
   ],
   "source": [
    "# layout.get_metadata(subject=list_PD ,extension='nii.gz', run=1, session=\"BL\" ,suffix='T1w', return_type='filename')"
   ]
  },
  {
   "cell_type": "code",
   "execution_count": 31,
   "metadata": {},
   "outputs": [
    {
     "name": "stdout",
     "output_type": "stream",
     "text": [
      "sub-3001 GE\n",
      "sub-3012 GE\n",
      "sub-3020 GE\n",
      "sub-3078 Philips\n",
      "sub-3279 GE\n",
      "sub-3505 Philips\n",
      "sub-3700 Philips\n",
      "sub-3709 Philips\n",
      "sub-3960 GE\n",
      "sub-3970 GE\n",
      "sub-4075 GE\n",
      "sub-4121 GE\n",
      "sub-40733 Philips\n",
      "sub-42264 Philips\n",
      "sub-75562 GE\n",
      "sub-150110 GE\n",
      "sub-165174 GE\n"
     ]
    }
   ],
   "source": [
    "for p in path_list_PD:\n",
    "\n",
    "    factory = layout.get_metadata(p).get('Manufacturer', 'unknown')\n",
    "    if factory != 'Siemens':\n",
    "        print(Path(p).parent.parent.parent.name, factory)\n",
    "    "
   ]
  },
  {
   "cell_type": "code",
   "execution_count": 32,
   "metadata": {},
   "outputs": [
    {
     "name": "stdout",
     "output_type": "stream",
     "text": [
      "sub-3000 GE\n",
      "sub-3008 GE\n",
      "sub-3057 Philips\n",
      "sub-3063 Philips\n",
      "sub-3271 GE\n",
      "sub-3277 GE\n",
      "sub-3414 GE\n",
      "sub-3452 Philips\n",
      "sub-3453 Philips\n",
      "sub-3457 Philips\n",
      "sub-3464 Philips\n",
      "sub-3527 Philips\n",
      "sub-3952 GE\n",
      "sub-3969 GE\n",
      "sub-4079 GE\n",
      "sub-101039 Philips\n",
      "sub-101039 Philips\n",
      "sub-101039 Philips\n",
      "sub-162905 Toshiba\n"
     ]
    }
   ],
   "source": [
    "for p in path_list_HC:\n",
    "\n",
    "    factory = layout.get_metadata(p).get('Manufacturer', 'unknown')\n",
    "    if factory != 'Siemens':\n",
    "        print(Path(p).parent.parent.parent.name, factory)\n",
    "    "
   ]
  }
 ],
 "metadata": {
  "kernelspec": {
   "display_name": ".venv",
   "language": "python",
   "name": "python3"
  },
  "language_info": {
   "codemirror_mode": {
    "name": "ipython",
    "version": 3
   },
   "file_extension": ".py",
   "mimetype": "text/x-python",
   "name": "python",
   "nbconvert_exporter": "python",
   "pygments_lexer": "ipython3",
   "version": "3.11.5"
  }
 },
 "nbformat": 4,
 "nbformat_minor": 2
}
