{
 "cells": [
  {
   "cell_type": "code",
   "execution_count": null,
   "metadata": {},
   "outputs": [],
   "source": [
    "import load_utils\n",
    "import plot_utils \n",
    "from pathlib import Path"
   ]
  },
  {
   "cell_type": "code",
   "execution_count": null,
   "metadata": {},
   "outputs": [],
   "source": [
    "path_PD = Path('./pipline/pd/outputs/ants/anat-12dofs')\n",
    "path_HC = Path('./pipline/hc/outputs/ants/anat-12dofs')"
   ]
  },
  {
   "cell_type": "code",
   "execution_count": null,
   "metadata": {},
   "outputs": [],
   "source": [
    "paths_PD = load_utils.get_paths(path_PD, Path(\"./PD_selected_subjects.txt\"), pattern=\"_ses-BLWarped\", ext=\".nii.gz\")\n",
    "paths_HC = load_utils.get_paths(path_HC, Path(\"./HC_selected_subjects.txt\"), pattern=\"_ses-BLWarped\", ext=\".nii.gz\")"
   ]
  },
  {
   "cell_type": "code",
   "execution_count": null,
   "metadata": {},
   "outputs": [],
   "source": [
    "fsl_path_PD = Path('./pipline/pd/outputs/anat-12dofs')\n",
    "fsl_path_HC = Path('./pipline/hc/outputs/anat-12dofs')"
   ]
  },
  {
   "cell_type": "code",
   "execution_count": null,
   "metadata": {},
   "outputs": [],
   "source": [
    "fsl_paths_PD = load_utils.get_paths(fsl_path_PD, Path(\"./PD_selected_subjects.txt\"), pattern=\"_ses-BL\", ext=\".nii.gz\")\n",
    "fsl_paths_HC = load_utils.get_paths(fsl_path_HC, Path(\"./HC_selected_subjects.txt\"), pattern=\"_ses-BL\", ext=\".nii.gz\")"
   ]
  },
  {
   "cell_type": "code",
   "execution_count": null,
   "metadata": {},
   "outputs": [],
   "source": [
    "# def create_directory(path):\n",
    "#     if not path.exists():\n",
    "#         path.mkdir(parents=True, exist_ok=True)\n",
    "\n",
    "# def generate_gif(images, save_path):\n",
    "#     with Image.open(images[0]) as frame_one:\n",
    "#         frame_one.save(\n",
    "#             save_path, format=\"GIF\", append_images=[Image.open(image) for image in images[1:]],\n",
    "#             save_all=True, duration=200, loop=0\n",
    "#         )\n",
    "\n",
    "# def process_images(image_paths, title_prefix, output_dir):\n",
    "#     mni_template = datasets.load_mni152_template()\n",
    "#     for path in image_paths:\n",
    "#         try:\n",
    "#             img = nib.load(path)\n",
    "#             output_file = output_dir / f\"{title_prefix}_{path.parent.name}.png\"\n",
    "#             # display = plotting.plot_anat(mni_template, title='Contours on MNI template')\n",
    "#             display = plotting.plot_anat(img, cut_coords=(10,10,1), title=title_prefix, dim=-0.5)\n",
    "#             display.add_contours(mni_template, cut_coords=(10,10,1), levels=[0.6], colors='r')\n",
    "#             display.savefig(str(output_file))  # This will save the figure with the contour\n",
    "#             display.close()\n",
    "#         except Exception as e:\n",
    "#             print(f\"Error processing {path}: {e}\")"
   ]
  },
  {
   "cell_type": "code",
   "execution_count": null,
   "metadata": {},
   "outputs": [],
   "source": [
    "# create_directory(Path(\"./outputs_plots\"))"
   ]
  },
  {
   "cell_type": "code",
   "execution_count": null,
   "metadata": {},
   "outputs": [],
   "source": [
    "# paths = [Path.cwd() / Path(p) for p in paths_HC[\"sub-3171\"][\"mca\"]]\n",
    "# process_images(paths, \"sub-3570_fsl\",Path(\"./outputs_plots\"))"
   ]
  },
  {
   "cell_type": "markdown",
   "metadata": {},
   "source": []
  },
  {
   "cell_type": "code",
   "execution_count": null,
   "metadata": {},
   "outputs": [],
   "source": [
    "\n",
    "# png_files = sorted(Path(\"./outputs_plots\").glob(\"*.png\"))\n",
    "# generate_gif(png_files,  Path(\"./outputs_plots/gif\") / \"sub-3171_fsl.gif\")"
   ]
  },
  {
   "cell_type": "code",
   "execution_count": null,
   "metadata": {},
   "outputs": [],
   "source": [
    "# from nilearn import plotting, datasets\n",
    "\n",
    "# # Load the MNI template (or use your own statistical map)\n",
    "# mni_template = datasets.load_mni152_template()\n",
    "\n",
    "# # Plot the template with contours\n",
    "# display = plotting.plot_anat(mni_template, title='Contours on MNI template')\n",
    "# display.add_contours(mni_template, levels=[.5], colors='r')"
   ]
  },
  {
   "cell_type": "code",
   "execution_count": null,
   "metadata": {},
   "outputs": [],
   "source": [
    "for sub in paths_HC.keys():\n",
    "    plot_utils.make_gif(paths_HC[sub][\"mca\"], sub, Path(\"./outputs_plots/ants/hc\"), duration=200, cut_coords=(0,0,0))"
   ]
  },
  {
   "cell_type": "code",
   "execution_count": null,
   "metadata": {},
   "outputs": [],
   "source": [
    "for sub in paths_PD.keys():\n",
    "    plot_utils.make_gif(paths_PD[sub][\"mca\"], sub, Path(\"./outputs_plots/ants/pd\"), duration=200, cut_coords=(0,0,0))"
   ]
  },
  {
   "cell_type": "code",
   "execution_count": null,
   "metadata": {},
   "outputs": [],
   "source": [
    "for sub in fsl_paths_HC.keys():\n",
    "    plot_utils.make_gif(fsl_paths_HC[sub][\"mca\"], sub, Path(\"./outputs_plots/fsl/hc\"), duration=200, cut_coords=(0,0,0))"
   ]
  },
  {
   "cell_type": "code",
   "execution_count": null,
   "metadata": {},
   "outputs": [],
   "source": [
    "for sub in fsl_paths_PD.keys():\n",
    "    plot_utils.make_gif(fsl_paths_PD[sub][\"mca\"], sub, Path(\"./outputs_plots/fsl/pd\"), duration=200, cut_coords=(0,0,0))"
   ]
  },
  {
   "cell_type": "code",
   "execution_count": null,
   "metadata": {},
   "outputs": [],
   "source": [
    "import importlib\n",
    "import plot_utils \n",
    "importlib.reload(plot_utils)"
   ]
  },
  {
   "cell_type": "code",
   "execution_count": null,
   "metadata": {},
   "outputs": [],
   "source": [
    "import numpy as np\n",
    "import matplotlib.pyplot as plt"
   ]
  },
  {
   "cell_type": "code",
   "execution_count": null,
   "metadata": {},
   "outputs": [],
   "source": [
    "dir = \"/home/niusham/projects/rrg-jbpoline/niusham/mca_linear_registration/outputs_plots/diagrams\""
   ]
  },
  {
   "cell_type": "code",
   "execution_count": null,
   "metadata": {},
   "outputs": [],
   "source": [
    "ANTS_FD_HC_all = np.loadtxt((dir+\"/ANTS_FD_HC_all.txt\"))\n",
    "ANTS_FD_PD_all = np.loadtxt((dir+\"/ANTS_FD_PD_all.txt\"))\n",
    "\n",
    "FSL_FD_HC_all = np.loadtxt((dir+\"/FSL_FD_HC_all.txt\"))\n",
    "FSL_FD_PD_all = np.loadtxt((dir+\"/FSL_FD_PD_all.txt\"))"
   ]
  },
  {
   "cell_type": "code",
   "execution_count": null,
   "metadata": {},
   "outputs": [],
   "source": [
    "plt.hist(np.std(ANTS_FD_HC_all, axis=1))\n",
    "plt.hist(np.std(ANTS_FD_PD_all, axis=1))"
   ]
  },
  {
   "cell_type": "code",
   "execution_count": null,
   "metadata": {},
   "outputs": [],
   "source": [
    "plt.hist(np.std(FSL_FD_HC_all, axis=1), alpha=0.5, bins=2)\n",
    "plt.hist(np.std(FSL_FD_PD_all, axis=1), alpha=0.5)"
   ]
  },
  {
   "cell_type": "code",
   "execution_count": null,
   "metadata": {},
   "outputs": [],
   "source": [
    "from scipy import stats"
   ]
  },
  {
   "cell_type": "code",
   "execution_count": null,
   "metadata": {},
   "outputs": [],
   "source": [
    "# ANTS_FD_HC_fine = np.loadtxt((dir+\"/ANTS_FD_HC_fine.txt\"))\n",
    "# ANTS_FD_PD_fine = np.loadtxt((dir+\"/ANTS_FD_PD_fine.txt\"))\n",
    "\n",
    "# FSL_FD_HC_fine = np.loadtxt((dir+\"/FSL_FD_HC_fine.txt\"))\n",
    "# FSL_FD_PD_fine = np.loadtxt((dir+\"/FSL_FD_PD_fine.txt\"))\n",
    "# FSL = np.concatenate([np.std(FSL_FD_HC_fine, axis=1), np.std(ANTS_FD_PD_fine, axis=1)])\n",
    "# ANTS = np.concatenate([np.std(ANTS_FD_HC_fine, axis=1), np.std(ANTS_FD_PD_fine, axis=1)])"
   ]
  },
  {
   "cell_type": "code",
   "execution_count": null,
   "metadata": {},
   "outputs": [],
   "source": [
    "FSL = np.concatenate([np.std(FSL_FD_HC_all, axis=1), np.std(FSL_FD_PD_all, axis=1)])\n",
    "ANTS = np.concatenate([np.std(ANTS_FD_HC_all, axis=1), np.std(ANTS_FD_PD_all, axis=1)])"
   ]
  },
  {
   "cell_type": "code",
   "execution_count": null,
   "metadata": {},
   "outputs": [],
   "source": [
    "stats.ttest_rel(np.log(FSL), np.log(ANTS))"
   ]
  },
  {
   "cell_type": "code",
   "execution_count": null,
   "metadata": {},
   "outputs": [],
   "source": [
    "stats.ttest_ind(np.log(np.std(FSL_FD_HC_all, axis=1)), np.log(np.std(FSL_FD_PD_all, axis=1)))"
   ]
  },
  {
   "cell_type": "code",
   "execution_count": null,
   "metadata": {},
   "outputs": [],
   "source": [
    "stats.ttest_ind(np.log(np.std(ANTS_FD_HC_all, axis=1)), np.log(np.std(ANTS_FD_PD_all, axis=1)))"
   ]
  },
  {
   "cell_type": "code",
   "execution_count": null,
   "metadata": {},
   "outputs": [],
   "source": [
    "stats.ttest_rel(np.log(np.std(FSL_FD_HC_all, axis=1)), np.log(np.std(ANTS_FD_HC_all, axis=1)))"
   ]
  },
  {
   "cell_type": "code",
   "execution_count": null,
   "metadata": {},
   "outputs": [],
   "source": [
    "stats.ttest_rel(np.log(np.std(FSL_FD_PD_all, axis=1)), np.log(np.std(ANTS_FD_PD_all, axis=1)))"
   ]
  },
  {
   "cell_type": "code",
   "execution_count": null,
   "metadata": {},
   "outputs": [],
   "source": [
    "stats.ttest_rel(np.log(FSL), np.log(ANTS))"
   ]
  },
  {
   "cell_type": "code",
   "execution_count": null,
   "metadata": {},
   "outputs": [],
   "source": [
    "stats.ttest_rel(np.log(FSL), np.log(ANTS))"
   ]
  },
  {
   "cell_type": "code",
   "execution_count": null,
   "metadata": {},
   "outputs": [],
   "source": [
    "plt.hist(np.log(ANTS), alpha=0.5)\n",
    "plt.hist(np.log(FSL), alpha=0.5)"
   ]
  },
  {
   "cell_type": "code",
   "execution_count": null,
   "metadata": {},
   "outputs": [],
   "source": [
    "stats.ttest_ind(np.log(np.std(FSL_FD_HC_all, axis=1)), np.log(np.std(FSL_FD_PD_all, axis=1)))"
   ]
  },
  {
   "cell_type": "code",
   "execution_count": null,
   "metadata": {},
   "outputs": [],
   "source": [
    "stats.ttest_ind(np.log(np.std(ANTS_FD_HC_all, axis=1)), np.log(np.std(ANTS_FD_PD_all, axis=1)))"
   ]
  },
  {
   "cell_type": "code",
   "execution_count": null,
   "metadata": {},
   "outputs": [],
   "source": [
    "FSL = np.concatenate([FSL_FD_HC_all, FSL_FD_PD_all])\n",
    "ANTS = np.concatenate([ANTS_FD_HC_all,ANTS_FD_PD_all])"
   ]
  },
  {
   "cell_type": "code",
   "execution_count": null,
   "metadata": {},
   "outputs": [],
   "source": [
    "FSL.shape"
   ]
  },
  {
   "cell_type": "code",
   "execution_count": null,
   "metadata": {},
   "outputs": [],
   "source": [
    "plt.scatter(np.std(ANTS_FD_HC_all, axis=1), np.mean(ANTS_FD_HC_all, axis=1) )\n",
    "plt.scatter(np.std(ANTS_FD_PD_all, axis=1), np.mean(ANTS_FD_PD_all, axis=1) )\n",
    "plt.scatter(np.std(FSL_FD_HC_all, axis=1), np.mean(FSL_FD_HC_all, axis=1) )\n",
    "plt.scatter(np.std(FSL_FD_PD_all, axis=1), np.mean(FSL_FD_PD_all, axis=1) )\n",
    "plt.legend([\"ANTS HC\", \"ANTS PD\", \"FSL HC\", \"FSL PD\"])\n",
    "plt.xlim((0,0.5))\n",
    "plt.ylim((0,200))\n",
    "plt.xlabel(\"SD\")\n",
    "plt.ylabel(\"mean\")"
   ]
  },
  {
   "cell_type": "code",
   "execution_count": null,
   "metadata": {},
   "outputs": [],
   "source": [
    "plt.scatter(np.std(ANTS, axis=1), np.mean(ANTS, axis=1) )\n",
    "\n",
    "plt.scatter(np.std(FSL, axis=1), np.mean(FSL, axis=1) )\n",
    "\n",
    "plt.legend([\"ANTS\", \"FSL\"])\n",
    "plt.xlabel(\"SD\")\n",
    "plt.ylabel(\"mean\")"
   ]
  },
  {
   "cell_type": "code",
   "execution_count": null,
   "metadata": {},
   "outputs": [],
   "source": [
    "import matplotlib.pyplot as plt\n",
    "import numpy as np\n",
    "from pathlib import Path"
   ]
  },
  {
   "cell_type": "code",
   "execution_count": null,
   "metadata": {},
   "outputs": [],
   "source": [
    "def create_directory(path):\n",
    "    if not path.exists():\n",
    "        path.mkdir(parents=True, exist_ok=True)"
   ]
  },
  {
   "cell_type": "code",
   "execution_count": null,
   "metadata": {},
   "outputs": [],
   "source": [
    "def hist_plotter(datasets, title, labels=None, path=None, bins=10, xlable=None):\n",
    "    if labels is None:\n",
    "        labels = [f\"Software {str(i+1)}\" for i in range(len(datasets))]\n",
    "\n",
    "    plt.figure()\n",
    "    for i, data in enumerate(datasets):\n",
    "        \n",
    "        data = data.reshape(-1, 1) \n",
    "        plt.hist(data, alpha=0.5, bins=bins, label=labels[i])\n",
    "        median = np.median(data)\n",
    "        plt.axvline(median, linestyle=\"dashed\", linewidth=1)\n",
    "        plt.text(median, plt.ylim()[1] / 2, f\"Median: {median:.2f}\", ha=\"right\", rotation=90)\n",
    "        \n",
    "    plt.title(title)\n",
    "    plt.legend()\n",
    "\n",
    "    if xlable:\n",
    "        plt.xlabel(xlable)\n",
    "    plt.show()\n",
    "    if path:\n",
    "        create_directory(path)\n",
    "        plt.savefig(path / f\"{title}.png\")\n",
    "    \n",
    "\n",
    "    "
   ]
  },
  {
   "cell_type": "code",
   "execution_count": 8,
   "metadata": {},
   "outputs": [
    {
     "data": {
      "image/png": "[encoded data removed]",
      "text/plain": [
       "<Figure size 640x480 with 1 Axes>"
      ]
     },
     "metadata": {},
     "output_type": "display_data"
    }
   ],
   "source": [
    "import numpy as np\n",
    "import matplotlib.pyplot as plt\n",
    "import os\n",
    "from pathlib import Path\n",
    "\n",
    "def create_directory(path):\n",
    "    if not os.path.exists(path):\n",
    "        os.makedirs(path)\n",
    "\n",
    "def hist_plotter(datasets, title, labels=None, path=None, bins=None, xlabel=None, dists=None):\n",
    "    n = len(datasets) \n",
    "    if labels is None:\n",
    "        labels = [f\"Software {str(i+1)}\" for i in range(len(datasets))]\n",
    "    \n",
    "    if bins is None:\n",
    "        bins = n * [10]\n",
    "    \n",
    "    if dists is None:\n",
    "        dists = n * [1]\n",
    "\n",
    "    direction = [\"left\", \"right\"]\n",
    "    plt.figure()\n",
    "    for i, data in enumerate(datasets):\n",
    "\n",
    "        if data.ndim == 1:\n",
    "            data = data.reshape(-1,1) \n",
    "        hist_data = plt.hist(data, alpha=0.5, bins=bins[i], label=labels[i])\n",
    "        color = hist_data[2][0].get_facecolor()\n",
    "        median = np.median(data)\n",
    "        plt.axvline(median, linestyle=\"dashed\", color=color, linewidth=1)\n",
    "        plt.text(median, dists[i] + plt.ylim()[1] / 2, f\"Median: {median:.2f}\", ha=direction[i%2], rotation=90)\n",
    "        \n",
    "    plt.title(title)\n",
    "    plt.legend()\n",
    "\n",
    "    if xlabel:\n",
    "        plt.xlabel(xlabel)\n",
    "    \n",
    "    if path:\n",
    "        create_directory(path)\n",
    "        plt.savefig(os.path.join(path, f\"{title}.png\"))\n",
    "    plt.show()\n",
    "\n",
    "# Example usage:\n",
    "datasets = [np.random.randn(100), np.random.randn(100) + 2]\n",
    "hist_plotter(datasets, title=\"Sample Histogram\", labels=[\"Dataset 1\", \"Dataset 2\"], xlabel=\"Value\", dists=[1,-4], path=Path(\".\"))\n"
   ]
  },
  {
   "cell_type": "code",
   "execution_count": null,
   "metadata": {},
   "outputs": [],
   "source": [
    "np.random.randn(100).reshape(-1,1).shape"
   ]
  },
  {
   "cell_type": "code",
   "execution_count": null,
   "metadata": {},
   "outputs": [],
   "source": [
    "hist_plotter([np.mean(FSL_all, axis=1)], \"Mean of Framewise Displacement Per Subject \", bins=10, labels=[\"FSL\"])"
   ]
  },
  {
   "cell_type": "code",
   "execution_count": null,
   "metadata": {},
   "outputs": [],
   "source": [
    "np.mean(FSL_all, axis=1).shape"
   ]
  },
  {
   "cell_type": "code",
   "execution_count": null,
   "metadata": {},
   "outputs": [],
   "source": [
    "hist_plotter([np.mean(ANTS_all, axis=1)], \"Mean of Framewise Displacement Per Subject \", bins=10, labels=[\"FSL\"], path=Path(\".\"))"
   ]
  },
  {
   "cell_type": "code",
   "execution_count": null,
   "metadata": {},
   "outputs": [],
   "source": [
    "[np.mean(FSL_all, axis=1), np.mean(ANTS_all, axis=1)]"
   ]
  },
  {
   "cell_type": "code",
   "execution_count": 135,
   "metadata": {},
   "outputs": [
    {
     "data": {
      "image/png": "[encoded data removed]",
      "text/plain": [
       "<Figure size 640x480 with 1 Axes>"
      ]
     },
     "metadata": {},
     "output_type": "display_data"
    }
   ],
   "source": [
    "hist_plotter([np.mean(FSL_all, axis=1), np.mean(ANTS_all, axis=1), np.mean(ANTS_all, axis=1)+6], \"Mean of Framewise Displacement Per Subject \",  labels=[\"FSL\", \"ANTS\", \"AA\"], bins=[2, 2, 15])"
   ]
  },
  {
   "cell_type": "code",
   "execution_count": null,
   "metadata": {},
   "outputs": [],
   "source": [
    "def hist_plotter(data_1, data_2, title, labels=None, path=None, bins=[10, 10], s=10, xlable=None):\n",
    "\n",
    "    if labels is None:\n",
    "        labels = [\"Software 1\", \"Software 2\"]\n",
    "\n",
    "    if data_1.ndim == 1:\n",
    "        data_1 = data_1.reshape(-1, 1)\n",
    "        data_2 = data_2.reshape(-1, 1)\n",
    "\n",
    "    dims = data_1.shape[-1]\n",
    "\n",
    "    for i in range(dims):\n",
    "        plt.subplot(1, dims, i + 1)\n",
    "        plt.hist(data_1[:, i], color=\"r\", alpha=0.2, bins=bins[0], label=labels[0])\n",
    "        plt.hist(data_2[:, i], color=\"b\", alpha=0.2, bins=bins[1], label=labels[1])\n",
    "        median1 = np.median(data_1[:, i])\n",
    "        median2 = np.median(data_2[:, i])\n",
    "        plt.axvline(median1, color=\"r\", linestyle=\"dashed\", linewidth=1)\n",
    "        plt.axvline(median2, color=\"b\", linestyle=\"dashed\", linewidth=1)\n",
    "        plt.text(median1, plt.ylim()[1] / 2, f\"Median: {median1:.2f}\", color=\"r\", ha=\"right\", rotation=90)\n",
    "        plt.text(median2 * s, plt.ylim()[1] / 2, f\"Median: {median2:.2f}\", color=\"b\", ha=\"left\", rotation=90)\n",
    "        if i == 1 or (i == 0 and dims == 1):\n",
    "            plt.title(title)\n",
    "        plt.legend()\n",
    "\n",
    "        if xlable:\n",
    "            plt.xlabel(xlable)\n",
    "\n",
    "        plt.subplots_adjust(left=None, bottom=None, right=None, top=None, wspace=0.75, hspace=0.75)\n",
    "        plt.tight_layout()\n",
    "\n",
    "        if path:\n",
    "            create_directory(path)\n",
    "            plt.savefig(path / f\"{title}.png\")\n",
    "        plt.show()"
   ]
  },
  {
   "cell_type": "code",
   "execution_count": 127,
   "metadata": {},
   "outputs": [
    {
     "name": "stderr",
     "output_type": "stream",
     "text": [
      "/tmp/ipykernel_4146161/2964704483.py:6: UserWarning: loadtxt: input contained no data: \"/home/niusham/projects/rrg-jbpoline/niusham/mca_linear_registration/outputs_plots/diagrams/ANTS_mad_failed_PD.txt\"\n",
      "  ANTS_mad_failed_PD = np.loadtxt(path / \"ANTS_mad_failed_PD.txt\")\n"
     ]
    }
   ],
   "source": [
    "path = \"/home/niusham/projects/rrg-jbpoline/niusham/mca_linear_registration/outputs_plots/diagrams\"\n",
    "path = Path(path)\n",
    "ANTS_mad_fine_PD = np.loadtxt(path/ \"ANTS_mad_fine_PD.txt\")\n",
    "ANTS_mad_fine_HC = np.loadtxt(path / \"ANTS_mad_fine_HC.txt\")\n",
    "\n",
    "ANTS_mad_failed_PD = np.loadtxt(path / \"ANTS_mad_failed_PD.txt\")\n",
    "ANTS_mad_failed_HC = np.loadtxt(path / \"ANTS_mad_failed_HC.txt\")\n",
    "\n",
    "ANTS_mad_all_PD = np.loadtxt(path / \"ANTS_mad_all_PD.txt\")\n",
    "ANTS_mad_all_HC = np.loadtxt(path / \"ANTS_mad_all_HC.txt\")\n",
    "\n",
    "FSL_mad_fine_PD = np.loadtxt(path / \"FSL_mad_fine_PD.txt\")\n",
    "FSL_mad_fine_HC = np.loadtxt(path/ \"FSL_mad_fine_HC.txt\")\n",
    "\n",
    "FSL_mad_failed_PD = np.loadtxt(path/ \"FSL_mad_failed_PD.txt\")\n",
    "FSL_mad_failed_HC = np.loadtxt(path/ \"FSL_mad_failed_HC.txt\")\n",
    "\n",
    "FSL_mad_all_PD = np.loadtxt(path / \"FSL_mad_all_PD.txt\")\n",
    "FSL_mad_all_HC = np.loadtxt(path / \"FSL_mad_all_HC.txt\")"
   ]
  },
  {
   "cell_type": "code",
   "execution_count": 128,
   "metadata": {},
   "outputs": [],
   "source": [
    "FSL_mad_fine = np.concatenate([FSL_mad_fine_PD, FSL_mad_fine_HC])\n",
    "ANTS_mad_fine = np.concatenate([ANTS_mad_fine_HC, ANTS_mad_fine_PD])\n",
    "\n",
    "FSL_mad_fail = np.concatenate([FSL_mad_failed_PD, FSL_mad_failed_HC])\n",
    "ANTS_mad_fail = np.concatenate([ANTS_mad_failed_HC])"
   ]
  },
  {
   "cell_type": "code",
   "execution_count": null,
   "metadata": {},
   "outputs": [],
   "source": [
    "hist_plotter(FSL_mad_fine, FSL_mad_fail, \"Mean Absolute Difference of FD for FSL\", s=1.1, bins=[5,5], labels=[\"Passed\", \"Failed\"], xlable=\"(mm)\")"
   ]
  },
  {
   "cell_type": "code",
   "execution_count": null,
   "metadata": {},
   "outputs": [],
   "source": [
    "hist_plotter(ANTS_mad_fine, ANTS_mad_fail, \"Mean Absolute Difference of FD for ANTS\", s=1.1, bins=[15,10], labels=[\"Passed\", \"Failed\"], xlable=\"(mm)\")"
   ]
  },
  {
   "cell_type": "code",
   "execution_count": null,
   "metadata": {},
   "outputs": [],
   "source": [
    "np.mean(ANTS_mad_fine)"
   ]
  },
  {
   "cell_type": "code",
   "execution_count": null,
   "metadata": {},
   "outputs": [],
   "source": [
    "np.max(ANTS_mad_fine)"
   ]
  },
  {
   "cell_type": "code",
   "execution_count": null,
   "metadata": {},
   "outputs": [],
   "source": [
    "ANTS_mad_fine[ANTS_mad_fine > 0.25]"
   ]
  },
  {
   "cell_type": "code",
   "execution_count": null,
   "metadata": {},
   "outputs": [],
   "source": [
    "np.mean(FSL_mad_fine)"
   ]
  },
  {
   "cell_type": "code",
   "execution_count": null,
   "metadata": {},
   "outputs": [],
   "source": [
    "np.max(FSL_mad_fine)"
   ]
  },
  {
   "cell_type": "code",
   "execution_count": null,
   "metadata": {},
   "outputs": [],
   "source": [
    "FSL_mad_fine[FSL_mad_fine > 0.25]"
   ]
  },
  {
   "cell_type": "code",
   "execution_count": 129,
   "metadata": {},
   "outputs": [
    {
     "name": "stderr",
     "output_type": "stream",
     "text": [
      "/tmp/ipykernel_4146161/3385825616.py:9: UserWarning: loadtxt: input contained no data: \"/home/niusham/projects/rrg-jbpoline/niusham/mca_linear_registration/outputs_plots/diagrams/ANTS_FD_PD_failed.txt\"\n",
      "  ANTS_FD_PD_fail = np.loadtxt((dir+\"/ANTS_FD_PD_failed.txt\"))\n"
     ]
    }
   ],
   "source": [
    "dir = \"/home/niusham/projects/rrg-jbpoline/niusham/mca_linear_registration/outputs_plots/diagrams\"\n",
    "ANTS_FD_HC_fine = np.loadtxt((dir+\"/ANTS_FD_HC_fine.txt\"))\n",
    "ANTS_FD_PD_fine = np.loadtxt((dir+\"/ANTS_FD_PD_fine.txt\"))\n",
    "\n",
    "FSL_FD_HC_fine = np.loadtxt((dir+\"/FSL_FD_HC_fine.txt\"))\n",
    "FSL_FD_PD_fine = np.loadtxt((dir+\"/FSL_FD_PD_fine.txt\"))\n",
    "\n",
    "ANTS_FD_HC_fail = np.loadtxt((dir+\"/ANTS_FD_HC_failed.txt\"))\n",
    "ANTS_FD_PD_fail = np.loadtxt((dir+\"/ANTS_FD_PD_failed.txt\"))\n",
    "\n",
    "FSL_FD_HC_fail = np.loadtxt((dir+\"/FSL_FD_HC_failed.txt\"))\n",
    "FSL_FD_PD_fail = np.loadtxt((dir+\"/FSL_FD_PD_failed.txt\"))"
   ]
  },
  {
   "cell_type": "code",
   "execution_count": 130,
   "metadata": {},
   "outputs": [
    {
     "name": "stderr",
     "output_type": "stream",
     "text": [
      "/tmp/ipykernel_4146161/3865974528.py:9: UserWarning: loadtxt: input contained no data: \"/home/niusham/projects/rrg-jbpoline/niusham/mca_linear_registration/outputs_plots/diagrams/ANTS_new_FD_PD_failed.txt\"\n",
      "  ANTS_FD_PD_fail_re = np.loadtxt((dir+\"/ANTS_new_FD_PD_failed.txt\"))\n"
     ]
    }
   ],
   "source": [
    "dir = \"/home/niusham/projects/rrg-jbpoline/niusham/mca_linear_registration/outputs_plots/diagrams\"\n",
    "ANTS_FD_HC_fine_re = np.loadtxt((dir+\"/ANTS_new_FD_HC_fine.txt\"))\n",
    "ANTS_FD_PD_fine_re = np.loadtxt((dir+\"/ANTS_new_FD_PD_fine.txt\"))\n",
    "\n",
    "FSL_FD_HC_fine_re = np.loadtxt((dir+\"/FSL_new_FD_HC_fine.txt\"))\n",
    "FSL_FD_PD_fine_re = np.loadtxt((dir+\"/FSL_new_FD_PD_fine.txt\"))\n",
    "\n",
    "ANTS_FD_HC_fail_re = np.loadtxt((dir+\"/ANTS_new_FD_HC_failed.txt\"))\n",
    "ANTS_FD_PD_fail_re = np.loadtxt((dir+\"/ANTS_new_FD_PD_failed.txt\"))\n",
    "\n",
    "FSL_FD_HC_fail_re = np.loadtxt((dir+\"/FSL_new_FD_HC_failed.txt\"))\n",
    "FSL_FD_PD_fail_re = np.loadtxt((dir+\"/FSL_new_FD_PD_failed.txt\"))"
   ]
  },
  {
   "cell_type": "code",
   "execution_count": 131,
   "metadata": {},
   "outputs": [],
   "source": [
    "FSL_fine = np.concatenate([FSL_FD_HC_fine, FSL_FD_PD_fine])\n",
    "ANTS_fine = np.concatenate([ANTS_FD_HC_fine, ANTS_FD_PD_fine])\n",
    "\n",
    "FSL_fail = np.concatenate([FSL_FD_HC_fail, FSL_FD_PD_fail])\n",
    "ANTS_fail = np.concatenate([ANTS_FD_HC_fail])"
   ]
  },
  {
   "cell_type": "code",
   "execution_count": 132,
   "metadata": {},
   "outputs": [],
   "source": [
    "FSL_all = np.concatenate([FSL_fine,FSL_fail])\n",
    "ANTS_all = np.concatenate([ANTS_fine,ANTS_fail])"
   ]
  },
  {
   "cell_type": "code",
   "execution_count": 133,
   "metadata": {},
   "outputs": [],
   "source": [
    "FSL_fine_ref = np.concatenate([FSL_FD_HC_fine_re, FSL_FD_PD_fine_re])\n",
    "ANTS_fine_ref = np.concatenate([ANTS_FD_HC_fine_re, ANTS_FD_PD_fine_re])\n",
    "\n",
    "FSL_fail_re = np.concatenate([FSL_FD_HC_fail_re, FSL_FD_PD_fail_re])\n",
    "ANTS_fail_re = np.concatenate([ANTS_FD_HC_fail_re])"
   ]
  },
  {
   "cell_type": "code",
   "execution_count": null,
   "metadata": {},
   "outputs": [],
   "source": [
    "hist_plotter(np.std(FSL_all, axis=1), np.std(ANTS_all, axis=1), \"Standard Deviation of Framewise Displacement Per Subject \", bins=[2,20], s=1.1, labels=[\"FSL\", \"ANTS\"], xlable=\"(mm)\")"
   ]
  },
  {
   "cell_type": "code",
   "execution_count": null,
   "metadata": {},
   "outputs": [],
   "source": [
    "hist_plotter(np.mean(FSL_all, axis=1), np.mean(ANTS_all, axis=1), \"Mean of Framewise Displacement Per Subject \", bins=[15,4], s=1.1, labels=[\"FSL\", \"ANTS\"], xlable=\"(mm)\")"
   ]
  },
  {
   "cell_type": "code",
   "execution_count": null,
   "metadata": {},
   "outputs": [],
   "source": [
    "hist_plotter(np.std(FSL_fine, axis=1), np.std(FSL_fail, axis=1), \"Standard Deviation of Framewise Displacement FSL\", s=1.1, labels=[\"Passed\", \"Failed\"], xlable=\"(mm)\")"
   ]
  },
  {
   "cell_type": "code",
   "execution_count": null,
   "metadata": {},
   "outputs": [],
   "source": [
    "hist_plotter(np.mean(FSL_fine, axis=1), np.mean(FSL_fail, axis=1), \"Mean of Framewise Displacement FSL\", s=1.1, labels=[\"Passed\", \"Failed\"], xlable=\"(mm)\")"
   ]
  },
  {
   "cell_type": "code",
   "execution_count": null,
   "metadata": {},
   "outputs": [],
   "source": [
    "hist_plotter(np.std(ANTS_fine, axis=1), np.std(ANTS_fail, axis=1), \"Standard Deviation of Framewise Displacement ANTS \", bins=[10,1], s=1.1, labels=[\"Passed\", \"Failed\"],xlable=\"(mm)\")"
   ]
  },
  {
   "cell_type": "code",
   "execution_count": null,
   "metadata": {},
   "outputs": [],
   "source": [
    "hist_plotter(np.mean(ANTS_fine, axis=1), np.mean(ANTS_fail, axis=1), \"Mean of Framewise Displacement ANTS \", bins=[10,1], s=1.1, labels=[\"Passed\", \"Failed\"], xlable=\"(mm)\")"
   ]
  },
  {
   "cell_type": "code",
   "execution_count": null,
   "metadata": {},
   "outputs": [],
   "source": [
    "hist_plotter(np.mean(FSL_fine_ref, axis=1), np.mean(ANTS_fine_ref, axis=1), \"Mean of Framewise Displacement (IEEE Reference) Per Subject \", bins=[1,25], s=1.1, labels=[\"FSL\", \"ANTS\"], xlable=\"(mm)\")"
   ]
  },
  {
   "cell_type": "code",
   "execution_count": null,
   "metadata": {},
   "outputs": [],
   "source": [
    "hist_plotter(np.std(FSL_fine_ref, axis=1), np.std(ANTS_fine_ref, axis=1), \"Standard Deviation of Framewise Displacement (IEEE Reference) Per Subject \", bins=[1,25], s=1.1, labels=[\"FSL\", \"ANTS\"], xlable=\"(mm)\")"
   ]
  },
  {
   "cell_type": "code",
   "execution_count": null,
   "metadata": {},
   "outputs": [],
   "source": [
    "hist_plotter(np.mean(FSL_fine_ref, axis=1), np.mean(FSL_fail_re, axis=1), \"Mean of Framewise Displacement (IEEE Reference) FSL\", s=1.1, labels=[\"Passed\", \"Failed\"], xlable=\"(mm)\", bins=[5,20])"
   ]
  },
  {
   "cell_type": "code",
   "execution_count": null,
   "metadata": {},
   "outputs": [],
   "source": [
    "hist_plotter(np.std(FSL_fine_ref, axis=1), np.std(FSL_fail_re, axis=1), \"Standard Deviation of Framewise Displacement (IEEE Reference) FSL\", s=1.1, labels=[\"Passed\", \"Failed\"], xlable=\"(mm)\", bins=[5,20])"
   ]
  },
  {
   "cell_type": "code",
   "execution_count": null,
   "metadata": {},
   "outputs": [],
   "source": [
    "hist_plotter(np.mean(ANTS_fine_ref, axis=1), np.mean(ANTS_fail_re, axis=1), \"Mean of Framewise Displacement (IEEE Reference) ANTS\", s=1.1, labels=[\"Passed\", \"Failed\"], xlable=\"(mm)\", bins=[5,10])"
   ]
  },
  {
   "cell_type": "code",
   "execution_count": null,
   "metadata": {},
   "outputs": [],
   "source": [
    "hist_plotter(np.std(ANTS_fine_ref, axis=1), np.std(ANTS_fail_re, axis=1), \"Standard Deviation of Framewise Displacement (IEEE Reference) ANTS\", s=1.1, labels=[\"Passed\", \"Failed\"], xlable=\"(mm)\", bins=[20,10])"
   ]
  },
  {
   "cell_type": "code",
   "execution_count": null,
   "metadata": {},
   "outputs": [],
   "source": [
    "np.median(ANTS_fine_ref)"
   ]
  },
  {
   "cell_type": "code",
   "execution_count": null,
   "metadata": {},
   "outputs": [],
   "source": [
    "hist_plotter(np.std(FSL_fine_ref, axis=1), np.std(ANTS_fine_ref, axis=1), \"Mean of Framewise Dsiaplacment (IEEE Reference) Per Subject \", bins=[1,25], s=1.1, labels=[\"FSL\", \"ANTS\"])"
   ]
  },
  {
   "cell_type": "code",
   "execution_count": null,
   "metadata": {},
   "outputs": [],
   "source": []
  },
  {
   "cell_type": "code",
   "execution_count": null,
   "metadata": {},
   "outputs": [],
   "source": [
    "import pandas as pd"
   ]
  },
  {
   "cell_type": "code",
   "execution_count": null,
   "metadata": {},
   "outputs": [],
   "source": [
    "a = pd.read_csv(\"fds.csv\",index_col=0)\n",
    "a[\"new_fd\"]"
   ]
  },
  {
   "cell_type": "code",
   "execution_count": null,
   "metadata": {},
   "outputs": [],
   "source": [
    "import pandas as pd\n",
    "import ast\n",
    "\n",
    "# Load the data\n",
    "a = pd.read_csv(\"fds.csv\", index_col=0)\n",
    "# a = pd.read_csv(\"fds_fsl.csv\", index_col=0)\n",
    "\n",
    "# Function to convert the malformed string list to a proper list\n",
    "def convert_to_list(string):\n",
    "    # Remove brackets and split by space, then filter empty strings\n",
    "    elements = string.strip('[]').split()\n",
    "    # Convert elements to float\n",
    "    return [float(element) for element in elements]\n",
    "\n",
    "# Apply the function to each element in the 'new_fd' column\n",
    "a['new_fd'] = a['new_fd'].apply(convert_to_list)\n",
    "\n",
    "# Check the data\n",
    "print(a.head())\n"
   ]
  },
  {
   "cell_type": "code",
   "execution_count": null,
   "metadata": {},
   "outputs": [],
   "source": [
    "# Explode the 'new_fd' column into multiple rows\n",
    "a_exploded = a.explode('new_fd')\n",
    "\n",
    "# Convert the elements in 'new_fd' to numeric type\n",
    "a_exploded['new_fd'] = pd.to_numeric(a_exploded['new_fd'])\n",
    "\n",
    "print(a_exploded.head())\n"
   ]
  },
  {
   "cell_type": "code",
   "execution_count": null,
   "metadata": {},
   "outputs": [],
   "source": [
    "len(a)"
   ]
  },
  {
   "cell_type": "code",
   "execution_count": null,
   "metadata": {},
   "outputs": [],
   "source": [
    "import seaborn as sns\n",
    "import matplotlib.pyplot as plt\n",
    "\n",
    "# Create the boxplot\n",
    "plt.figure(figsize=(40, 6))\n",
    "sns.boxplot(data=a_exploded.reset_index()\n",
    ", x='index', y='new_fd')\n",
    "plt.xticks(rotation=90)\n",
    "plt.title('Boxplot of Framewise Displacement by Subject')\n",
    "plt.ylabel('Framewise Displacement')\n",
    "plt.xlabel('Subject ID')\n",
    "plt.tight_layout()\n",
    "plt.show()\n"
   ]
  },
  {
   "cell_type": "code",
   "execution_count": 1,
   "metadata": {},
   "outputs": [],
   "source": [
    "import numpy as np"
   ]
  },
  {
   "cell_type": "code",
   "execution_count": 20,
   "metadata": {},
   "outputs": [],
   "source": [
    "spm_a = np.loadtxt(\"/home/niusham/projects/rrg-jbpoline/niusham/mca_linear_registration/outputs_plots/diagrams/spm/MNI152NLin2009cAsym_res-01/FD_all.txt\")\n",
    "spm_c = np.loadtxt(\"/home/niusham/projects/rrg-jbpoline/niusham/mca_linear_registration/outputs_plots/diagrams/spm/MNI152NLin2009cSym_res-1/FD_all.txt\")"
   ]
  },
  {
   "cell_type": "code",
   "execution_count": 21,
   "metadata": {},
   "outputs": [],
   "source": [
    "import matplotlib.pyplot as plt"
   ]
  },
  {
   "cell_type": "code",
   "execution_count": 22,
   "metadata": {},
   "outputs": [
    {
     "data": {
      "text/plain": [
       "(array([ 8.,  5., 11., 17., 18., 16., 11.,  4.,  8.,  2.]),\n",
       " array([-25.0715869 , -24.01611954, -22.96065219, -21.90518483,\n",
       "        -20.84971748, -19.79425012, -18.73878277, -17.68331541,\n",
       "        -16.62784806, -15.5723807 , -14.51691335]),\n",
       " <BarContainer object of 10 artists>)"
      ]
     },
     "execution_count": 22,
     "metadata": {},
     "output_type": "execute_result"
    },
    {
     "data": {
      "image/png": "[encoded data removed]",
      "text/plain": [
       "<Figure size 640x480 with 1 Axes>"
      ]
     },
     "metadata": {},
     "output_type": "display_data"
    }
   ],
   "source": [
    "plt.hist(np.log(np.std(spm_a, axis=1)))\n",
    "plt.hist(np.log(np.std(spm_c, axis=1)))"
   ]
  },
  {
   "cell_type": "code",
   "execution_count": 23,
   "metadata": {},
   "outputs": [
    {
     "data": {
      "text/plain": [
       "18"
      ]
     },
     "execution_count": 23,
     "metadata": {},
     "output_type": "execute_result"
    }
   ],
   "source": [
    "np.argmax(np.std(spm_a, axis=1))"
   ]
  },
  {
   "cell_type": "code",
   "execution_count": 29,
   "metadata": {},
   "outputs": [
    {
     "data": {
      "text/plain": [
       "(98, 10)"
      ]
     },
     "execution_count": 29,
     "metadata": {},
     "output_type": "execute_result"
    }
   ],
   "source": [
    "np.delete(spm_a, [82,18],axis=0).shape"
   ]
  },
  {
   "cell_type": "code",
   "execution_count": 28,
   "metadata": {},
   "outputs": [
    {
     "data": {
      "text/plain": [
       "82"
      ]
     },
     "execution_count": 28,
     "metadata": {},
     "output_type": "execute_result"
    }
   ],
   "source": [
    "np.argmax(np.std(np.delete(spm_a, 18,axis=0), axis=1))"
   ]
  },
  {
   "cell_type": "code",
   "execution_count": 25,
   "metadata": {},
   "outputs": [
    {
     "data": {
      "text/plain": [
       "(100, 10)"
      ]
     },
     "execution_count": 25,
     "metadata": {},
     "output_type": "execute_result"
    }
   ],
   "source": [
    "spm_c.shape"
   ]
  },
  {
   "cell_type": "code",
   "execution_count": 30,
   "metadata": {},
   "outputs": [
    {
     "data": {
      "text/plain": [
       "TtestResult(statistic=2.081655138459311, pvalue=0.04000739303720645, df=97)"
      ]
     },
     "execution_count": 30,
     "metadata": {},
     "output_type": "execute_result"
    }
   ],
   "source": [
    "from scipy import stats\n",
    "stats.ttest_rel(np.log(np.std(np.delete(spm_a, [82,18],axis=0), axis=1)),np.log(np.std(np.delete(spm_c, [82,18],axis=0), axis=1)))"
   ]
  },
  {
   "cell_type": "code",
   "execution_count": null,
   "metadata": {},
   "outputs": [],
   "source": []
  }
 ],
 "metadata": {
  "kernelspec": {
   "display_name": ".venv",
   "language": "python",
   "name": "python3"
  },
  "language_info": {
   "codemirror_mode": {
    "name": "ipython",
    "version": 3
   },
   "file_extension": ".py",
   "mimetype": "text/x-python",
   "name": "python",
   "nbconvert_exporter": "python",
   "pygments_lexer": "ipython3",
   "version": "3.11.5"
  }
 },
 "nbformat": 4,
 "nbformat_minor": 2
}
