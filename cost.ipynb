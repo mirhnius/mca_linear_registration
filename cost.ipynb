{
 "cells": [
  {
   "cell_type": "code",
   "execution_count": 41,
   "metadata": {},
   "outputs": [],
   "source": [
    "import numpy as np\n",
    "import pandas as pd\n",
    "from pathlib  import Path"
   ]
  },
  {
   "cell_type": "code",
   "execution_count": 42,
   "metadata": {},
   "outputs": [],
   "source": [
    "def read_all_versions(parent_path, softwares, templates, name_patterns, cost_functions=[\"\"], dtype=float):\n",
    "    parent_path = Path(parent_path)\n",
    "    data = {software: {template: {cost_function: None for cost_function in cost_functions} for template in templates} for software in softwares}\n",
    "\n",
    "    for software in softwares:\n",
    "        for template in templates:\n",
    "            for cost_function in cost_functions:\n",
    "                data_list = []\n",
    "                for name_pattern in name_patterns:\n",
    "                    name = name_pattern(software, template)\n",
    "\n",
    "                    path = parent_path / software / template / cost_function / \"reports\" / name\n",
    "                    # \"arrays\" /\n",
    "                    if path.exists():\n",
    "                        data_list.append(np.loadtxt(path, dtype=dtype))\n",
    "\n",
    "                if data_list:\n",
    "                    data[software][template][cost_function] = np.concatenate(data_list)\n",
    "\n",
    "    return data"
   ]
  },
  {
   "cell_type": "code",
   "execution_count": 43,
   "metadata": {},
   "outputs": [],
   "source": [
    "def func_fd_passed(s, t):\n",
    "        return f\"{s}_FD_all_fine.txt\"\n",
    "\n",
    "parent_path = Path(\"/home/niusham/projects/rrg-glatard/niusham/mca_linear_registration/outputs_plots/diagrams\")\n",
    "softwares = [\"flirt\"]\n",
    "templates = [\"MNI152NLin2009cAsym_res-01\"]\n",
    "cost_functions = [\"normcorr\", \"corratio\", \"mutualinfo\", \"normmi\"]\n",
    "data = read_all_versions(parent_path, softwares, templates, [func_fd_passed], cost_functions=cost_functions)"
   ]
  },
  {
   "cell_type": "code",
   "execution_count": 44,
   "metadata": {},
   "outputs": [],
   "source": [
    "# Initialize a dictionary to store the standard deviations\n",
    "std_results = {}\n",
    "\n",
    "# Traverse the nested dictionary\n",
    "for software, templates in data.items():\n",
    "    std_results[software] = {}\n",
    "    for template, cost_functions in templates.items():\n",
    "        std_results[software][template] = {}\n",
    "        for cost_function, array in cost_functions.items():\n",
    "            # Compute standard deviation\n",
    "            std = np.std(array, axis=1)\n",
    "            std_results[software][template][cost_function] = std"
   ]
  },
  {
   "cell_type": "code",
   "execution_count": 45,
   "metadata": {},
   "outputs": [],
   "source": [
    "std_flirt = std_results['flirt']['MNI152NLin2009cAsym_res-01']\n",
    "from scipy.stats import shapiro, levene, f_oneway"
   ]
  },
  {
   "cell_type": "code",
   "execution_count": 50,
   "metadata": {},
   "outputs": [
    {
     "data": {
      "text/plain": [
       "F_onewayResult(statistic=100.73232120579381, pvalue=7.723828356175875e-48)"
      ]
     },
     "execution_count": 50,
     "metadata": {},
     "output_type": "execute_result"
    }
   ],
   "source": [
    "f_oneway(std_flirt[\"normcorr\"],std_flirt[\"corratio\"],std_flirt[\"normmi\"],std_flirt[\"mutualinfo\"])"
   ]
  },
  {
   "cell_type": "code",
   "execution_count": 51,
   "metadata": {},
   "outputs": [
    {
     "data": {
      "text/plain": [
       "KruskalResult(statistic=294.4617523541742, pvalue=1.571682629645311e-63)"
      ]
     },
     "execution_count": 51,
     "metadata": {},
     "output_type": "execute_result"
    }
   ],
   "source": [
    "from scipy.stats import kruskal\n",
    "kruskal(std_flirt[\"normcorr\"],std_flirt[\"corratio\"],std_flirt[\"normmi\"],std_flirt[\"mutualinfo\"])"
   ]
  },
  {
   "cell_type": "code",
   "execution_count": 49,
   "metadata": {},
   "outputs": [
    {
     "data": {
      "image/png": "[encoded data removed]",
      "text/plain": [
       "<Figure size 640x480 with 1 Axes>"
      ]
     },
     "metadata": {},
     "output_type": "display_data"
    }
   ],
   "source": [
    "import matplotlib.pyplot as plt\n",
    "plt.hist(std_flirt[\"normcorr\"], alpha=0.5)\n",
    "plt.hist(std_flirt[\"corratio\"], alpha=0.5)\n",
    "plt.hist(std_flirt[\"normmi\"], bins=50, alpha=0.5)\n",
    "plt.hist(std_flirt[\"mutualinfo\"], bins=100, alpha=0.5)\n",
    "plt.legend(cost_functions)\n",
    "plt.show()"
   ]
  },
  {
   "cell_type": "code",
   "execution_count": 48,
   "metadata": {},
   "outputs": [
    {
     "data": {
      "text/plain": [
       "19"
      ]
     },
     "execution_count": 48,
     "metadata": {},
     "output_type": "execute_result"
    }
   ],
   "source": [
    "np.argmax(std_flirt[\"mutualinfo\"])"
   ]
  },
  {
   "cell_type": "code",
   "execution_count": null,
   "metadata": {},
   "outputs": [],
   "source": []
  }
 ],
 "metadata": {
  "kernelspec": {
   "display_name": ".venv",
   "language": "python",
   "name": "python3"
  },
  "language_info": {
   "codemirror_mode": {
    "name": "ipython",
    "version": 3
   },
   "file_extension": ".py",
   "mimetype": "text/x-python",
   "name": "python",
   "nbconvert_exporter": "python",
   "pygments_lexer": "ipython3",
   "version": "3.11.5"
  }
 },
 "nbformat": 4,
 "nbformat_minor": 2
}
